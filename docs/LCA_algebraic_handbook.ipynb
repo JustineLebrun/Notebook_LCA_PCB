{
 "cells": [
  {
   "cell_type": "markdown",
   "id": "402811d3-9f8e-409b-86b8-583d2fb732a4",
   "metadata": {},
   "source": [
    "# LCA algebraic module HandBook"
   ]
  },
  {
   "cell_type": "markdown",
   "id": "cd96d499-bd8f-45a5-9954-c5a882c276b7",
   "metadata": {},
   "source": [
    "## Initialization"
   ]
  },
  {
   "cell_type": "code",
   "execution_count": 1,
   "id": "a8dbc596-929f-4e09-a3cd-d23a6d70da2b",
   "metadata": {},
   "outputs": [],
   "source": [
    "import brightway2 as bw\n",
    "import os \n",
    "import lca_algebraic as agb\n",
    "\n",
    "from sympy import init_printing\n",
    "import bw2io\n",
    "from dotenv import load_dotenv\n",
    "\n",
    "# Pretty print for Sympy\n",
    "init_printing()\n",
    "\n",
    "# handbook https://github.com/oie-mines-paristech/lca_algebraic/blob/main/notebooks/handbook.ipynb\n",
    "# Computational example https://github.com/oie-mines-paristech/lca_algebraic/blob/main/notebooks/example-notebook.ipynb"
   ]
  },
  {
   "cell_type": "code",
   "execution_count": 2,
   "id": "d387b60b-23db-4a1d-be1f-c6ffb08a7601",
   "metadata": {},
   "outputs": [
    {
     "name": "stderr",
     "output_type": "stream",
     "text": [
      "[WARNING] Db ecoinvent_391 was here. Reseting it\n"
     ]
    }
   ],
   "source": [
    "NAME_PROJECT=\"tuto_bw_lca_algebraic\"\n",
    "NAME_USER_DB='ecoinvent_391' # user database name\n",
    "\n",
    "bw.projects.set_current(NAME_PROJECT) #Open a brightway project associated with the project name chosen\n",
    "bw.projects.current\n",
    "agb.resetDb(NAME_USER_DB) # Create and reset the user (foreground) database\n",
    "agb.resetParams() # Reset the definition of all parameters "
   ]
  },
  {
   "cell_type": "markdown",
   "id": "7401fde3-85c8-497b-a8ee-9bac010783a3",
   "metadata": {},
   "source": [
    "## Loading background ecoinvent database"
   ]
  },
  {
   "cell_type": "code",
   "execution_count": 5,
   "id": "d6e72b69-b84b-4213-a971-d7ebb652a093",
   "metadata": {},
   "outputs": [
    {
     "name": "stderr",
     "output_type": "stream",
     "text": [
      "Extracting ecospold2 files:\n",
      "0% [##############################] 100% | ETA: 00:00:00 | Item ID: fffede58-fed2-5\n",
      "Total time elapsed: 00:18:34\n"
     ]
    },
    {
     "name": "stdout",
     "output_type": "stream",
     "text": [
      "Title: Extracting ecospold2 files:\n",
      "  Started: 02/28/2025 16:01:33\n",
      "  Finished: 02/28/2025 16:20:07\n",
      "  Total time elapsed: 00:18:34\n",
      "  CPU %: 13.20\n",
      "  Memory %: 21.00\n",
      "Extracted 21238 datasets in 1117.65 seconds\n",
      "Applying strategy: normalize_units\n",
      "Applying strategy: update_ecoinvent_locations\n",
      "Applying strategy: remove_zero_amount_coproducts\n",
      "Applying strategy: remove_zero_amount_inputs_with_no_activity\n",
      "Applying strategy: remove_unnamed_parameters\n",
      "Applying strategy: es2_assign_only_product_with_amount_as_reference_product\n",
      "Applying strategy: assign_single_product_as_activity\n",
      "Applying strategy: create_composite_code\n",
      "Applying strategy: drop_unspecified_subcategories\n",
      "Applying strategy: fix_ecoinvent_flows_pre35\n",
      "Applying strategy: drop_temporary_outdated_biosphere_flows\n"
     ]
    },
    {
     "name": "stderr",
     "output_type": "stream",
     "text": [
      "D:\\Users\\Justine\\Anaconda\\envs\\lca_algebraic_CGM\\lib\\site-packages\\bw2io\\strategies\\ecospold2.py:1070: UserWarning: Skipping migration 'fix-ecoinvent-flows-pre-35' because it isn't installed\n",
      "  warnings.warn(\n"
     ]
    },
    {
     "name": "stdout",
     "output_type": "stream",
     "text": [
      "Applying strategy: link_biosphere_by_flow_uuid\n",
      "Applying strategy: link_internal_technosphere_by_composite_code\n",
      "Applying strategy: delete_exchanges_missing_activity\n",
      "Applying strategy: delete_ghost_exchanges\n",
      "Applying strategy: remove_uncertainty_from_negative_loss_exchanges\n",
      "Applying strategy: fix_unreasonably_high_lognormal_uncertainties\n",
      "Applying strategy: convert_activity_parameters_to_list\n",
      "Applying strategy: add_cpc_classification_from_single_reference_product\n",
      "Applying strategy: delete_none_synonyms\n",
      "Applying strategy: update_social_flows_in_older_consequential\n",
      "Applying strategy: set_lognormal_loc_value\n",
      "Applied 22 strategies in 15.15 seconds\n",
      "21238 datasets\n",
      "674593 exchanges\n",
      "407351 unlinked exchanges\n",
      "  Type biosphere: 996 unique unlinked exchanges\n"
     ]
    },
    {
     "name": "stderr",
     "output_type": "stream",
     "text": [
      "Writing activities to SQLite3 database:\n"
     ]
    },
    {
     "ename": "InvalidExchange",
     "evalue": "",
     "output_type": "error",
     "traceback": [
      "\u001b[1;31m---------------------------------------------------------------------------\u001b[0m",
      "\u001b[1;31mInvalidExchange\u001b[0m                           Traceback (most recent call last)",
      "Cell \u001b[1;32mIn[5], line 7\u001b[0m\n\u001b[0;32m      5\u001b[0m ei39cut\u001b[38;5;241m.\u001b[39mapply_strategies()\n\u001b[0;32m      6\u001b[0m ei39cut\u001b[38;5;241m.\u001b[39mstatistics()\n\u001b[1;32m----> 7\u001b[0m \u001b[43mei39cut\u001b[49m\u001b[38;5;241;43m.\u001b[39;49m\u001b[43mwrite_database\u001b[49m\u001b[43m(\u001b[49m\u001b[43m)\u001b[49m\n\u001b[0;32m      9\u001b[0m bw\u001b[38;5;241m.\u001b[39mbw2setup() \u001b[38;5;66;03m#Importing elementary flows, LCIA methods and some other data\u001b[39;00m\n\u001b[0;32m     11\u001b[0m FOREGROUND_DB \u001b[38;5;241m=\u001b[39m \u001b[38;5;124m'\u001b[39m\u001b[38;5;124mMyForeground\u001b[39m\u001b[38;5;124m'\u001b[39m \u001b[38;5;66;03m# separate DB for defining our foreground model / activities\u001b[39;00m\n",
      "File \u001b[1;32mD:\\Users\\Justine\\Anaconda\\envs\\lca_algebraic_CGM\\lib\\site-packages\\bw2io\\importers\\base_lci.py:273\u001b[0m, in \u001b[0;36mLCIImporter.write_database\u001b[1;34m(self, data, delete_existing, backend, activate_parameters, **kwargs)\u001b[0m\n\u001b[0;32m    270\u001b[0m \u001b[38;5;28mself\u001b[39m\u001b[38;5;241m.\u001b[39mwrite_database_parameters(activate_parameters, delete_existing)\n\u001b[0;32m    272\u001b[0m existing\u001b[38;5;241m.\u001b[39mupdate(data)\n\u001b[1;32m--> 273\u001b[0m \u001b[43mdb\u001b[49m\u001b[38;5;241;43m.\u001b[39;49m\u001b[43mwrite\u001b[49m\u001b[43m(\u001b[49m\u001b[43mexisting\u001b[49m\u001b[43m)\u001b[49m\n\u001b[0;32m    275\u001b[0m \u001b[38;5;28;01mif\u001b[39;00m activate_parameters:\n\u001b[0;32m    276\u001b[0m     \u001b[38;5;28mself\u001b[39m\u001b[38;5;241m.\u001b[39m_write_activity_parameters(activity_parameters)\n",
      "File \u001b[1;32mD:\\Users\\Justine\\Anaconda\\envs\\lca_algebraic_CGM\\lib\\site-packages\\bw2data\\project.py:358\u001b[0m, in \u001b[0;36mwritable_project\u001b[1;34m(wrapped, instance, args, kwargs)\u001b[0m\n\u001b[0;32m    356\u001b[0m \u001b[38;5;28;01mif\u001b[39;00m projects\u001b[38;5;241m.\u001b[39mread_only:\n\u001b[0;32m    357\u001b[0m     \u001b[38;5;28;01mraise\u001b[39;00m ReadOnlyProject(READ_ONLY_PROJECT)\n\u001b[1;32m--> 358\u001b[0m \u001b[38;5;28;01mreturn\u001b[39;00m wrapped(\u001b[38;5;241m*\u001b[39margs, \u001b[38;5;241m*\u001b[39m\u001b[38;5;241m*\u001b[39mkwargs)\n",
      "File \u001b[1;32mD:\\Users\\Justine\\Anaconda\\envs\\lca_algebraic_CGM\\lib\\site-packages\\bw2data\\backends\\peewee\\database.py:260\u001b[0m, in \u001b[0;36mSQLiteBackend.write\u001b[1;34m(self, data, process)\u001b[0m\n\u001b[0;32m    258\u001b[0m \u001b[38;5;28;01mif\u001b[39;00m data:\n\u001b[0;32m    259\u001b[0m     \u001b[38;5;28;01mtry\u001b[39;00m:\n\u001b[1;32m--> 260\u001b[0m         \u001b[38;5;28;43mself\u001b[39;49m\u001b[38;5;241;43m.\u001b[39;49m\u001b[43m_efficient_write_many_data\u001b[49m\u001b[43m(\u001b[49m\u001b[43mdata\u001b[49m\u001b[43m)\u001b[49m\n\u001b[0;32m    261\u001b[0m     \u001b[38;5;28;01mexcept\u001b[39;00m:\n\u001b[0;32m    262\u001b[0m         \u001b[38;5;66;03m# Purge all data from database, then reraise\u001b[39;00m\n\u001b[0;32m    263\u001b[0m         \u001b[38;5;28mself\u001b[39m\u001b[38;5;241m.\u001b[39mdelete(warn\u001b[38;5;241m=\u001b[39m\u001b[38;5;28;01mFalse\u001b[39;00m)\n",
      "File \u001b[1;32mD:\\Users\\Justine\\Anaconda\\envs\\lca_algebraic_CGM\\lib\\site-packages\\bw2data\\backends\\peewee\\database.py:204\u001b[0m, in \u001b[0;36mSQLiteBackend._efficient_write_many_data\u001b[1;34m(self, data, indices)\u001b[0m\n\u001b[0;32m    197\u001b[0m     \u001b[38;5;28mself\u001b[39m\u001b[38;5;241m.\u001b[39mpbar \u001b[38;5;241m=\u001b[39m pyprind\u001b[38;5;241m.\u001b[39mProgBar(\n\u001b[0;32m    198\u001b[0m         \u001b[38;5;28mlen\u001b[39m(data),\n\u001b[0;32m    199\u001b[0m         title\u001b[38;5;241m=\u001b[39m\u001b[38;5;124m\"\u001b[39m\u001b[38;5;124mWriting activities to SQLite3 database:\u001b[39m\u001b[38;5;124m\"\u001b[39m,\n\u001b[0;32m    200\u001b[0m         monitor\u001b[38;5;241m=\u001b[39m\u001b[38;5;28;01mTrue\u001b[39;00m\n\u001b[0;32m    201\u001b[0m     )\n\u001b[0;32m    203\u001b[0m \u001b[38;5;28;01mfor\u001b[39;00m index, (key, ds) \u001b[38;5;129;01min\u001b[39;00m \u001b[38;5;28menumerate\u001b[39m(data\u001b[38;5;241m.\u001b[39mitems()):\n\u001b[1;32m--> 204\u001b[0m     exchanges, activities \u001b[38;5;241m=\u001b[39m \u001b[38;5;28;43mself\u001b[39;49m\u001b[38;5;241;43m.\u001b[39;49m\u001b[43m_efficient_write_dataset\u001b[49m\u001b[43m(\u001b[49m\n\u001b[0;32m    205\u001b[0m \u001b[43m        \u001b[49m\u001b[43mindex\u001b[49m\u001b[43m,\u001b[49m\u001b[43m \u001b[49m\u001b[43mkey\u001b[49m\u001b[43m,\u001b[49m\u001b[43m \u001b[49m\u001b[43mds\u001b[49m\u001b[43m,\u001b[49m\u001b[43m \u001b[49m\u001b[43mexchanges\u001b[49m\u001b[43m,\u001b[49m\u001b[43m \u001b[49m\u001b[43mactivities\u001b[49m\n\u001b[0;32m    206\u001b[0m \u001b[43m    \u001b[49m\u001b[43m)\u001b[49m\n\u001b[0;32m    208\u001b[0m \u001b[38;5;28;01mif\u001b[39;00m \u001b[38;5;129;01mnot\u001b[39;00m \u001b[38;5;28mgetattr\u001b[39m(config, \u001b[38;5;124m\"\u001b[39m\u001b[38;5;124mis_test\u001b[39m\u001b[38;5;124m\"\u001b[39m, \u001b[38;5;28;01mNone\u001b[39;00m):\n\u001b[0;32m    209\u001b[0m     \u001b[38;5;28mprint\u001b[39m(\u001b[38;5;28mself\u001b[39m\u001b[38;5;241m.\u001b[39mpbar)\n",
      "File \u001b[1;32mD:\\Users\\Justine\\Anaconda\\envs\\lca_algebraic_CGM\\lib\\site-packages\\bw2data\\backends\\peewee\\database.py:156\u001b[0m, in \u001b[0;36mSQLiteBackend._efficient_write_dataset\u001b[1;34m(self, index, key, ds, exchanges, activities)\u001b[0m\n\u001b[0;32m    154\u001b[0m \u001b[38;5;28;01mfor\u001b[39;00m exchange \u001b[38;5;129;01min\u001b[39;00m ds\u001b[38;5;241m.\u001b[39mget(\u001b[38;5;124m'\u001b[39m\u001b[38;5;124mexchanges\u001b[39m\u001b[38;5;124m'\u001b[39m, []):\n\u001b[0;32m    155\u001b[0m     \u001b[38;5;28;01mif\u001b[39;00m \u001b[38;5;124m'\u001b[39m\u001b[38;5;124minput\u001b[39m\u001b[38;5;124m'\u001b[39m \u001b[38;5;129;01mnot\u001b[39;00m \u001b[38;5;129;01min\u001b[39;00m exchange \u001b[38;5;129;01mor\u001b[39;00m \u001b[38;5;124m'\u001b[39m\u001b[38;5;124mamount\u001b[39m\u001b[38;5;124m'\u001b[39m \u001b[38;5;129;01mnot\u001b[39;00m \u001b[38;5;129;01min\u001b[39;00m exchange:\n\u001b[1;32m--> 156\u001b[0m         \u001b[38;5;28;01mraise\u001b[39;00m InvalidExchange\n\u001b[0;32m    157\u001b[0m     \u001b[38;5;28;01mif\u001b[39;00m \u001b[38;5;124m'\u001b[39m\u001b[38;5;124mtype\u001b[39m\u001b[38;5;124m'\u001b[39m \u001b[38;5;129;01mnot\u001b[39;00m \u001b[38;5;129;01min\u001b[39;00m exchange:\n\u001b[0;32m    158\u001b[0m         \u001b[38;5;28;01mraise\u001b[39;00m UntypedExchange\n",
      "\u001b[1;31mInvalidExchange\u001b[0m: "
     ]
    }
   ],
   "source": [
    "if 'ecoinvent_v3.9.1_cutoff_ecoSpold02' in bw.databases:\n",
    "    print(\"Database has already been imported.\")\n",
    "else:\n",
    "    fpei39cut = r\"C:\\Users\\lebrunjus\\Desktop\\ecoinvent_databases\\ecoinvent_v3.9.1_cutoff_ecoSpold02\\datasets\"\n",
    "    #r\"C:\\Users\\lebrunjus\\Desktop\\LCA SST Workshop\\Brightway\\ecoinvent_v3.9.1_cutoff_ecoSpold02\\datasets\"\n",
    "    ei39cut = bw.SingleOutputEcospold2Importer(fpei39cut, 'ecoinvent_v3.9.1_cutoff_ecoSpold02')\n",
    "    ei39cut\n",
    "    ei39cut.apply_strategies()\n",
    "    ei39cut.statistics()\n",
    "    ei39cut.write_database()\n",
    "\n",
    "    bw.bw2setup() #Importing elementary flows, LCIA methods and some other data\n",
    "\n",
    "FOREGROUND_DB = 'MyForeground' # separate DB for defining our foreground model / activities\n",
    "agb.resetDb(FOREGROUND_DB) # cleanup the whole foreground model each time; Any persistent state is prone to errors.\n",
    "\n",
    "# Overview of the databases\n",
    "agb.list_databases()\n",
    "#bw.databases # Print the databases that have been set up with brightway function\n",
    "\n",
    "# delete a USER_DB\n",
    "# del bw.databases[\"name-db-to-delete\"]"
   ]
  },
  {
   "cell_type": "markdown",
   "id": "18c34898-a388-4689-aedf-8d695cd0acfe",
   "metadata": {},
   "source": [
    "## Select LCIA methods"
   ]
  },
  {
   "cell_type": "markdown",
   "id": "8507be83-8ea2-4655-921c-aa7ec96e086a",
   "metadata": {},
   "source": [
    "**bw.methods** is a brightway dictionnary that contains all LCIA methods and impacts categories that were imported when initialising the notebook.\n",
    "Objects in **bw.methods** are triplet (LCIA method, endpoint category, midpoint category) that corresponds \n",
    "to impacts categories calculated with a given LCIA method."
   ]
  },
  {
   "cell_type": "code",
   "execution_count": 6,
   "id": "b81cab3d-afa6-4f8a-aa79-c3912fc7d051",
   "metadata": {},
   "outputs": [
    {
     "name": "stdout",
     "output_type": "stream",
     "text": [
      "Brightway LCIA methods and impact categories\n"
     ]
    },
    {
     "data": {
      "image/png": "[encoded data removed]",
      "text/latex": [
       "$\\displaystyle \\left[ \\right]$"
      ],
      "text/plain": [
       "[]"
      ]
     },
     "execution_count": 6,
     "metadata": {},
     "output_type": "execute_result"
    }
   ],
   "source": [
    "print('Brightway LCIA methods and impact categories')\n",
    "list(bw.methods) #See all triplets of bw.methods\n",
    "\n",
    "########\n",
    "# Search through the methods\n",
    "# list_LCIA_methods = [m[0] for m in bw.methods] # See all the LCIA methods available in Brightway 2\n",
    "# list_LCIA_methods = [m[0] for m in bw.methods if \"ReCiPe\" in str(m)] # See all the LCIA methods that were imported that contains ReCiPe in their name\"\n",
    "# list_LCIA_methods = [m[0] for m in bw.methods if not \"no LT\" in str(m) and not'obsolete' in str(m)] # See all the LCIA methods that were imported excluding the one containing keywords such as \"no LT\" or \"obsolete\"\n",
    "\n",
    "# list_LCIA_methods = [*set(list_LCIA_methods)]\n",
    "# list_LCIA_methods"
   ]
  },
  {
   "cell_type": "code",
   "execution_count": 7,
   "id": "d8b5beaf-6a98-41f1-b50d-8fbf536d89bd",
   "metadata": {},
   "outputs": [],
   "source": [
    "# Pick the LCIA method \n",
    "LCIA_method = 'EF v3.0 no LT'"
   ]
  },
  {
   "cell_type": "markdown",
   "id": "17a5b0e0-f527-45a8-b683-3c8392ac4f22",
   "metadata": {},
   "source": [
    "## Select impact categories"
   ]
  },
  {
   "cell_type": "markdown",
   "id": "f898550d-c052-4968-a272-43a0a965bf81",
   "metadata": {},
   "source": [
    "List all the impacts categories that can be calculated with the selected LCIA method "
   ]
  },
  {
   "cell_type": "code",
   "execution_count": 8,
   "id": "75d9317e-a88b-4d2b-a714-583652790468",
   "metadata": {},
   "outputs": [
    {
     "name": "stdout",
     "output_type": "stream",
     "text": [
      "There are 0 impacts categories calculated with the LCIA method : 'EF v3.0 no LT' that are :\n"
     ]
    },
    {
     "data": {
      "image/png": "[encoded data removed]",
      "text/latex": [
       "$\\displaystyle \\left[ \\right]$"
      ],
      "text/plain": [
       "[]"
      ]
     },
     "execution_count": 8,
     "metadata": {},
     "output_type": "execute_result"
    }
   ],
   "source": [
    "list_impact_categories=agb.findMethods(\"\",LCIA_method)\n",
    "nb_impacts=len(list_impact_categories)\n",
    "\n",
    "print(f\"There are {nb_impacts} impacts categories calculated with the LCIA method : '{LCIA_method}' that are :\")\n",
    "list_impact_categories"
   ]
  },
  {
   "cell_type": "markdown",
   "id": "33d08154-0b4f-49a3-9683-3339899716b7",
   "metadata": {},
   "source": [
    "**impact_categories** are triplet (LCIA method, endpoint category, midpoint category).\n",
    "\n",
    "To do : update the name of the endpoint and midpoint category in the triplet and the name of impact_categories"
   ]
  },
  {
   "cell_type": "code",
   "execution_count": 59,
   "id": "7ce0e489-7d38-443b-af6d-5f8907265da0",
   "metadata": {},
   "outputs": [],
   "source": [
    "climate = (LCIA_method, 'climate change no LT','global warming potential (GWP100) no LT')\n",
    "resources = (LCIA_method, 'energy resources: non-renewable no LT','abiotic depletion potential (ADP): fossil fuels no LT')\n",
    "soil = (LCIA_method, 'climate change: land use and land use change no LT','global warming potential (GWP100) no LT')    \n",
    "\n",
    "# Find all impacts categories calculated with the LCIA method chosen that contain a keyword with agb.findMethods(\"keyword\", LCIA methods)"
   ]
  },
  {
   "cell_type": "markdown",
   "id": "e46b203e-10ab-4a0a-8d9e-6d88880ec41f",
   "metadata": {},
   "source": [
    "Define a list of impacts categories chosen and print it"
   ]
  },
  {
   "cell_type": "code",
   "execution_count": 60,
   "id": "fa421e76-6a69-42fc-97e0-014ecb4e73ff",
   "metadata": {},
   "outputs": [
    {
     "name": "stdout",
     "output_type": "stream",
     "text": [
      "We have selected 3 impacts categories calculated with the LCIA method : 'EF v3.0 no LT' that are :\n",
      " \n",
      "climate change no LT > global warming potential (GWP100) no LT\n",
      "energy resources: non-renewable no LT > abiotic depletion potential (ADP): fossil fuels no LT\n",
      "climate change: land use and land use change no LT > global warming potential (GWP100) no LT\n"
     ]
    }
   ],
   "source": [
    "impacts = [climate, resources, soil]\n",
    "\n",
    "nb_impacts = len(impacts)\n",
    "print(f\"We have selected {nb_impacts} impacts categories calculated with the LCIA method : '{LCIA_method}' that are :\")\n",
    "print(\" \")\n",
    "for m in impacts : print(m[1],\">\", m[-1])"
   ]
  },
  {
   "cell_type": "markdown",
   "id": "bda7fa1c-b54e-48f2-8208-fb4ec276edfd",
   "metadata": {},
   "source": [
    "Test if the triplet you have just defined are methods in bw.methods.\n",
    "\n",
    "If there is no error, it means it is ok. If there is an error, it means at least one of the impact categories is not correctly defined and does not correspond to an existing impact category. Check that there is no tipping error. "
   ]
  },
  {
   "cell_type": "code",
   "execution_count": 61,
   "id": "f219eb9e-e435-418d-8812-67e0d6a6741e",
   "metadata": {},
   "outputs": [
    {
     "data": {
      "text/plain": [
       "{'description': '',\n",
       " 'filename': 'LCIA_Implementation_3.9.xlsx',\n",
       " 'unit': 'kg CO2-Eq',\n",
       " 'abbreviation': 'ef-v30-no-ltcg.e0b4c646ca9e0c4e30582c8baa6c7b25',\n",
       " 'num_cfs': 16}"
      ]
     },
     "execution_count": 61,
     "metadata": {},
     "output_type": "execute_result"
    }
   ],
   "source": [
    "bw.methods[climate]\n",
    "bw.methods[resources]\n",
    "bw.methods[soil]"
   ]
  },
  {
   "cell_type": "markdown",
   "id": "433f023b-8a49-48fe-8e85-b9579715b8be",
   "metadata": {},
   "source": [
    "## Define parameters"
   ]
  },
  {
   "cell_type": "markdown",
   "id": "5bd6d575-29f8-4195-9d0e-a4108e284503",
   "metadata": {},
   "source": [
    "**lca_algebraic parameters** have functionalities that helps manipulating parameters while doing LCA. For example, it helps calculating scenarios or conducting fast sensitivity analysis.\n",
    "\n",
    "Define the parameters:\n",
    "- you don't want to make vary as standard python variables (static variables)\n",
    "- you wish to change as lca_algebraic parameters\n"
   ]
  },
  {
   "cell_type": "markdown",
   "id": "ec29ee4c-a30c-4ee6-a078-b311cc898ea7",
   "metadata": {},
   "source": [
    "### Static parameters"
   ]
  },
  {
   "cell_type": "code",
   "execution_count": 62,
   "id": "0a52cce7-9736-47f7-8c02-0d3e1af0ee9b",
   "metadata": {},
   "outputs": [],
   "source": [
    "steel_density = 7850 # [kg/m3]"
   ]
  },
  {
   "cell_type": "markdown",
   "id": "e200b265-a607-4acf-ad84-8116b1d28555",
   "metadata": {},
   "source": [
    "### lca_algebraic parameters"
   ]
  },
  {
   "cell_type": "markdown",
   "id": "c22c7f67-8fc0-4ba7-ac56-7decf0b2d736",
   "metadata": {},
   "source": [
    "**lca_algebraic** can define 3 types of parameters :\n",
    "\n",
    "- Float parameter, with `newFloatParam(...)`\n",
    "- Bool parameter, with `newBoolParam(...)`\n",
    "- \"Exclusive choice\", that corresponds to the definition of several boolean parameters with `newEnumParam(...)` > for example, for an electricity mix, we have to choose one mix among others\n",
    "\n",
    "N.B.: When you define a lca_algebraic parameter, the name of the parameter has to be the same as the name of the variable."
   ]
  },
  {
   "cell_type": "code",
   "execution_count": 63,
   "id": "3c74e12d-45f6-4a1a-9c3c-1b45f99386d7",
   "metadata": {},
   "outputs": [
    {
     "name": "stdout",
     "output_type": "stream",
     "text": [
      "Warning : param name is different for var name : elec_mix_country <> var\n"
     ]
    }
   ],
   "source": [
    "\" Examples of lca_algebraic parameters implementation \"\n",
    "\n",
    "### new Float Param\n",
    "# Example : PV power installed in kWpeak \n",
    "power_capacity = agb.newFloatParam(\n",
    "    name=\"power_capacity\",                        # short name\n",
    "    label=\"roof system\",                # label\n",
    "    description=\"installed peak power\", # long description\n",
    "    unit=\"kWp\",                         # unit\n",
    "    group=\"intallation\",                # (optional) to class your parameters in group\n",
    "    default=1500,                       # default value\n",
    "    min=3,                              # min value\n",
    "    max=300,                            # max value \n",
    "    distrib=agb.DistributionType.TRIANGLE)  # (optional) statistic distribution of the parameter\n",
    "\n",
    "# Note: statistic distribution of the parameter can be : agb.DistributionType.NORMAL or .TRIANGLE or .LINEAR or.LOGNORMAL\n",
    "# if \"distrib\" is empty, a uniform distribution will be chosen by default  \n",
    "# ignore the warning\n",
    "\n",
    "### new Bool param\n",
    "# Example: Bool parameter that defines the installation type \n",
    "# 1 =  on roof \n",
    "# 0 = on soil \n",
    "on_roof=agb.newBoolParam(\n",
    "    name=\"on_roof\",                     # short name\n",
    "    label=\"mounting system\",            # long label\n",
    "    description=\"mounting system roof (on_roof=1) or ground mounting system (on_roof=0)\", # long description\n",
    "    group=\"installation\",               # (optional) to class your parameters in group\n",
    "    default=1                           # default value\n",
    "    )                \n",
    "#We can define a variable that is a function of the lca_algebraic boolean parameter we have just created\n",
    "on_ground = (1-on_roof)\n",
    "\n",
    "### newEnumParam\n",
    "\n",
    "# Example : electric mixes. This parameter defines 5 boolean parameters\n",
    "elec_mix_country=agb.newEnumParam( \n",
    "    \"elec_mix_country\",                     # Short name\n",
    "    label=\"electricial mix\",        # label\n",
    "    description=\"country chosen for the electricity mix\", # Long description  \n",
    "    group=\"manufacturing\",          # (optional) to class your parameters in group\n",
    "    values =[                       # Statistic weight of each option that fits with the market\n",
    "        \"senegal\",\n",
    "        \"france\",\n",
    "        \"italy\",\n",
    "        \"germany\"\n",
    "    ],\n",
    "    default=\"senegal\")                   # the default value is a string\n",
    "# If you used advanced functionalities of lca_algebraic, you can add statistic weight of each option by creating a dictionary\n",
    "#    values ={\"france\": 2.4,\"germany\": 7.4,\"italy\": 71.4,\"senegal\": 5.7}\n",
    "\n",
    "#Test if the name of parameters are the same as the name of the variable\n",
    "for name, var in list(globals().items()):\n",
    "    if isinstance(var, agb.ParamDef) and var.name != name :\n",
    "        print(\"Warning : param name is different for var name : %s <> %s\" % (var.name, name))\n",
    "        \n",
    "#ignore the warning"
   ]
  },
  {
   "cell_type": "code",
   "execution_count": 64,
   "id": "c182627b-f2b1-4436-a669-2f89ef7b8786",
   "metadata": {},
   "outputs": [],
   "source": [
    "# Module efficacity, kWp/m2\n",
    "efficacite_module = agb.newFloatParam(\n",
    "    \"efficacite_module\",\n",
    "    distrib=agb.DistributionType.TRIANGLE, # Distribution triangulaire, privilégiant la valeur par défaut\n",
    "    default=0.175, min=0.15, max=0.22,\n",
    "    group=\"installation\",\n",
    "    label_fr=\"efficacité module\",\n",
    "    description=\"efficacité du module par surface installée\",\n",
    "    unit=\"kWp/m²\")"
   ]
  },
  {
   "cell_type": "markdown",
   "id": "96fe7767-d47b-49ab-b8e2-4620d29d9529",
   "metadata": {},
   "source": [
    "#### Print the list of all parameters"
   ]
  },
  {
   "cell_type": "code",
   "execution_count": 65,
   "id": "64650eff-11bd-477e-a379-f19b02786ca5",
   "metadata": {},
   "outputs": [
    {
     "data": {
      "text/html": [
       "<table>\n",
       "<thead>\n",
       "<tr><th>group        </th><th>name             </th><th>label            </th><th>default  </th><th style=\"text-align: right;\">  min</th><th style=\"text-align: right;\">   max</th><th>std  </th><th>distrib  </th><th>unit  </th><th>db       </th></tr>\n",
       "</thead>\n",
       "<tbody>\n",
       "<tr><td>installation </td><td>efficacite_module</td><td>efficacite module</td><td>0.175    </td><td style=\"text-align: right;\"> 0.15</td><td style=\"text-align: right;\">  0.22</td><td>     </td><td>triangle </td><td>kWp/m²</td><td>[project]</td></tr>\n",
       "<tr><td>installation </td><td>on_roof          </td><td>mounting system  </td><td>1        </td><td style=\"text-align: right;\">     </td><td style=\"text-align: right;\">      </td><td>     </td><td>         </td><td>      </td><td>[project]</td></tr>\n",
       "<tr><td>intallation  </td><td>power_capacity   </td><td>roof system      </td><td>1500     </td><td style=\"text-align: right;\"> 3   </td><td style=\"text-align: right;\">300   </td><td>     </td><td>triangle </td><td>kWp   </td><td>[project]</td></tr>\n",
       "<tr><td>manufacturing</td><td>elec_mix_country </td><td>electricial mix  </td><td>senegal  </td><td style=\"text-align: right;\">     </td><td style=\"text-align: right;\">      </td><td>     </td><td>         </td><td>      </td><td>[project]</td></tr>\n",
       "</tbody>\n",
       "</table>"
      ],
      "text/plain": [
       "<IPython.core.display.HTML object>"
      ]
     },
     "execution_count": 65,
     "metadata": {},
     "output_type": "execute_result"
    }
   ],
   "source": [
    "agb.list_parameters()"
   ]
  },
  {
   "cell_type": "markdown",
   "id": "32c8283f-9dbc-4abe-85d4-f30f5a342344",
   "metadata": {},
   "source": [
    "#### Parameters printing"
   ]
  },
  {
   "cell_type": "code",
   "execution_count": 66,
   "id": "add1bf3d-0c1b-419d-aed3-e3cc0036e8a0",
   "metadata": {},
   "outputs": [
    {
     "data": {
      "text/html": [
       "<table>\n",
       "<thead>\n",
       "<tr><th>group        </th><th>name             </th><th>label            </th><th>default  </th><th style=\"text-align: right;\">  min</th><th style=\"text-align: right;\">   max</th><th>std  </th><th>distrib  </th><th>unit  </th><th>db       </th></tr>\n",
       "</thead>\n",
       "<tbody>\n",
       "<tr><td>installation </td><td>efficacite_module</td><td>efficacite module</td><td>0.175    </td><td style=\"text-align: right;\"> 0.15</td><td style=\"text-align: right;\">  0.22</td><td>     </td><td>triangle </td><td>kWp/m²</td><td>[project]</td></tr>\n",
       "<tr><td>installation </td><td>on_roof          </td><td>mounting system  </td><td>1        </td><td style=\"text-align: right;\">     </td><td style=\"text-align: right;\">      </td><td>     </td><td>         </td><td>      </td><td>[project]</td></tr>\n",
       "<tr><td>intallation  </td><td>power_capacity   </td><td>roof system      </td><td>1500     </td><td style=\"text-align: right;\"> 3   </td><td style=\"text-align: right;\">300   </td><td>     </td><td>triangle </td><td>kWp   </td><td>[project]</td></tr>\n",
       "<tr><td>manufacturing</td><td>elec_mix_country </td><td>electricial mix  </td><td>senegal  </td><td style=\"text-align: right;\">     </td><td style=\"text-align: right;\">      </td><td>     </td><td>         </td><td>      </td><td>[project]</td></tr>\n",
       "</tbody>\n",
       "</table>"
      ],
      "text/plain": [
       "<IPython.core.display.HTML object>"
      ]
     },
     "execution_count": 66,
     "metadata": {},
     "output_type": "execute_result"
    }
   ],
   "source": [
    "# power_capacity #If you print an lca_algebraic parameter, its name is prnted but not its value\n",
    "# (power_capacity.name, power_capacity.default, power_capacity.unit) #Print the name, default value and unit of one parameter\n",
    "    \n",
    "#Print the informations about parameters in one table with the function agb.list_parameters()\n",
    "agb.list_parameters()"
   ]
  },
  {
   "cell_type": "markdown",
   "id": "74f9f751-8444-4367-ac0b-d08e8bc23429",
   "metadata": {},
   "source": [
    "#### python variables that are functions of lca_algebraic parameters"
   ]
  },
  {
   "cell_type": "code",
   "execution_count": 67,
   "id": "566d4f6a-744d-4572-a296-b083ec5d7901",
   "metadata": {},
   "outputs": [
    {
     "data": {
      "image/png": "[encoded data removed]",
      "text/latex": [
       "$\\displaystyle \\frac{power_{capacity}}{efficacite_{module}}$"
      ],
      "text/plain": [
       " power_capacity  \n",
       "─────────────────\n",
       "efficacite_module"
      ]
     },
     "execution_count": 67,
     "metadata": {},
     "output_type": "execute_result"
    }
   ],
   "source": [
    "#If you print the python variable surface, its expression (function of lca_algebrauic parameters) is printed \n",
    "surface = power_capacity / efficacite_module\n",
    "surface"
   ]
  },
  {
   "cell_type": "code",
   "execution_count": 68,
   "id": "ee2a119c-44dc-4b0e-a053-3b9ce6e1adca",
   "metadata": {},
   "outputs": [
    {
     "name": "stderr",
     "output_type": "stream",
     "text": [
      "[INFO] Required param 'efficacite_module' was missing, replacing by default value : 0.175\n",
      "[INFO] Required param 'power_capacity' was missing, replacing by default value : 1500\n"
     ]
    },
    {
     "data": {
      "image/png": "[encoded data removed]",
      "text/latex": [
       "$\\displaystyle 8571.42857142857$"
      ],
      "text/plain": [
       "8571.428571428572"
      ]
     },
     "execution_count": 68,
     "metadata": {},
     "output_type": "execute_result"
    }
   ],
   "source": [
    "#To get its value with default parameters value : \n",
    "agb.compute_value(surface)"
   ]
  },
  {
   "cell_type": "code",
   "execution_count": 69,
   "id": "b563b6ca-f322-4444-b1c3-f4263fee9a0c",
   "metadata": {},
   "outputs": [
    {
     "name": "stderr",
     "output_type": "stream",
     "text": [
      "[INFO] Required param 'power_capacity' was missing, replacing by default value : 1500\n"
     ]
    },
    {
     "data": {
      "image/png": "[encoded data removed]",
      "text/latex": [
       "$\\displaystyle 7500.0$"
      ],
      "text/plain": [
       "7500.0"
      ]
     },
     "execution_count": 69,
     "metadata": {},
     "output_type": "execute_result"
    }
   ],
   "source": [
    "#To get its value with chosen parameters value (if you do not put a parameter value, the default one will be used for the calculation) : \n",
    "agb.compute_value(\n",
    "    surface,\n",
    "    #power_capacity=1000,\n",
    "    efficacite_module=0.2)"
   ]
  },
  {
   "cell_type": "markdown",
   "id": "7778755b-4b8e-4931-824b-09cc47f2a2b3",
   "metadata": {},
   "source": [
    "# Activities"
   ]
  },
  {
   "cell_type": "markdown",
   "id": "35d28d34-0634-48f5-8ea0-77f898197d36",
   "metadata": {},
   "source": [
    "There are 3 main databases :\n",
    "\n",
    "- The **biosphere database** that contains all the flows from and to the biosphere\n",
    "- The **background reference database**: the modelised inventory is built with activities taken from the reference database for background. In this notebook, the reference database is ecoinvent.\n",
    "- The **model database** : the modelised inventory is set up in the database 'USER_DB' that is independant of the reference database, so that the reference database is not modified.\n",
    "  \n",
    "In the following part, the terms \"flow\" and \"activity\" have the same meaning."
   ]
  },
  {
   "cell_type": "code",
   "execution_count": 70,
   "id": "78335a26-35a4-4bec-98b0-823688f6c083",
   "metadata": {},
   "outputs": [
    {
     "name": "stdout",
     "output_type": "stream",
     "text": [
      "The databases that have been set up are :\n"
     ]
    },
    {
     "data": {
      "text/plain": [
       "Databases dictionary with 3 object(s):\n",
       "\tMyForeground\n",
       "\tbiosphere3\n",
       "\tecoinvent_v3.9.1_cutoff_ecoSpold02"
      ]
     },
     "execution_count": 70,
     "metadata": {},
     "output_type": "execute_result"
    }
   ],
   "source": [
    "print('The databases that have been set up are :')\n",
    "bw.databases"
   ]
  },
  {
   "cell_type": "markdown",
   "id": "e0cd4277-8444-46b1-8049-f8c72e76332c",
   "metadata": {},
   "source": [
    "## Activities in the Biosphere"
   ]
  },
  {
   "cell_type": "code",
   "execution_count": 71,
   "id": "8c133415-91f9-4738-b89d-9154d539d68e",
   "metadata": {},
   "outputs": [
    {
     "data": {
      "text/html": [
       "<div>\n",
       "<style scoped>\n",
       "    .dataframe tbody tr th:only-of-type {\n",
       "        vertical-align: middle;\n",
       "    }\n",
       "\n",
       "    .dataframe tbody tr th {\n",
       "        vertical-align: top;\n",
       "    }\n",
       "\n",
       "    .dataframe thead tr th {\n",
       "        text-align: left;\n",
       "    }\n",
       "</style>\n",
       "<table border=\"1\" class=\"dataframe\">\n",
       "  <thead>\n",
       "    <tr>\n",
       "      <th></th>\n",
       "      <th colspan=\"3\" halign=\"left\">Water, in air (1.000000 cubic meter)</th>\n",
       "    </tr>\n",
       "    <tr>\n",
       "      <th></th>\n",
       "      <th>input</th>\n",
       "      <th>amount</th>\n",
       "      <th>unit</th>\n",
       "    </tr>\n",
       "  </thead>\n",
       "  <tbody>\n",
       "  </tbody>\n",
       "</table>\n",
       "</div>"
      ],
      "text/plain": [
       "Empty DataFrame\n",
       "Columns: [(Water, in air (1.000000 cubic meter), input), (Water, in air (1.000000 cubic meter), amount), (Water, in air (1.000000 cubic meter), unit)]\n",
       "Index: []"
      ]
     },
     "execution_count": 71,
     "metadata": {},
     "output_type": "execute_result"
    }
   ],
   "source": [
    "# Define a biosphere flow \n",
    "water_in_air = agb.findBioAct(\"Water, in air\") # update the right termonology to find the right activity and update the activity_name\n",
    "\n",
    "# Print this activity with the function agb.printAct\n",
    "agb.printAct(water_in_air)"
   ]
  },
  {
   "cell_type": "code",
   "execution_count": 72,
   "id": "c38d4c6d-b954-4ff7-8f52-8d09878b64bc",
   "metadata": {},
   "outputs": [
    {
     "data": {
      "text/plain": [
       "['Water' (cubic meter, None, ('water', 'surface water')),\n",
       " 'Water' (cubic meter, None, ('water',)),\n",
       " 'Water' (cubic meter, None, ('water', 'ocean')),\n",
       " 'Water' (cubic meter, None, ('water', 'ground-')),\n",
       " 'Water' (cubic meter, None, ('water', 'fossil well')),\n",
       " 'Water' (cubic meter, None, ('water', 'ground-, long-term')),\n",
       " 'Water' (cubic meter, None, ('air', 'non-urban air or from high stacks')),\n",
       " 'Water' (cubic meter, None, ('air', 'low population density, long-term')),\n",
       " 'Water' (cubic meter, None, ('air', 'lower stratosphere + upper troposphere')),\n",
       " 'Water' (cubic meter, None, ('air',)),\n",
       " 'Water' (cubic meter, None, ('air', 'urban air close to ground')),\n",
       " 'Water, lake' (cubic meter, None, ('natural resource', 'in water')),\n",
       " 'Water, river' (cubic meter, None, ('natural resource', 'in water')),\n",
       " 'Fresh water (obsolete)' (cubic meter, None, ('water', 'surface water')),\n",
       " 'Water, in air' (cubic meter, None, ('natural resource', 'in air')),\n",
       " 'Salt water (obsolete)' (cubic meter, None, ('water', 'ocean')),\n",
       " 'Magnesium, 0.13% in water' (kilogram, None, ('natural resource', 'in water')),\n",
       " 'Iodine, 0.03% in water' (kilogram, None, ('natural resource', 'in water')),\n",
       " 'Water, well, in ground' (cubic meter, None, ('natural resource', 'in water')),\n",
       " 'Bromine, 0.23% in water' (kilogram, None, ('natural resource', 'in water')),\n",
       " 'Water, salt, sole' (cubic meter, None, ('natural resource', 'in water')),\n",
       " 'Water, salt, ocean' (cubic meter, None, ('natural resource', 'in water')),\n",
       " 'Water, unspecified natural origin' (cubic meter, None, ('natural resource', 'in water')),\n",
       " 'Water, cooling, unspecified natural origin' (cubic meter, None, ('natural resource', 'in water')),\n",
       " 'Water, unspecified natural origin' (cubic meter, None, ('natural resource', 'fossil well')),\n",
       " 'Water, unspecified natural origin' (cubic meter, None, ('natural resource', 'in ground')),\n",
       " 'Water, turbine use, unspecified natural origin' (cubic meter, None, ('natural resource', 'in water'))]"
      ]
     },
     "execution_count": 72,
     "metadata": {},
     "output_type": "execute_result"
    }
   ],
   "source": [
    "# Find activities in biosphere based on keyword with agb.findBioAct\n",
    "\n",
    "# Warning 1: put \"*\" meaning it is not finished\n",
    "# Warning 2 : the flow name starts with a Capital letter\n",
    "# Warning 3 : let \"single=False\" so that the list is printed\n",
    "\n",
    "agb.findBioAct(\"Water*\", single=False)   "
   ]
  },
  {
   "cell_type": "code",
   "execution_count": 73,
   "id": "b3343cab-06ff-43ab-aa7c-3db2b8ff60ac",
   "metadata": {},
   "outputs": [
    {
     "data": {
      "text/plain": [
       "'Water, in air' (cubic meter, None, ('natural resource', 'in air'))"
      ]
     },
     "execution_count": 73,
     "metadata": {},
     "output_type": "execute_result"
    }
   ],
   "source": [
    "# Looking at the list printed above, pick the right name of the activity (update the name and delete \"single = false\")\n",
    "# If there is no error, it means the activity is well identified\n",
    "agb.findBioAct(\"Water, in air\")"
   ]
  },
  {
   "cell_type": "markdown",
   "id": "233bbb28-d2b5-4a9b-883d-0a869581564d",
   "metadata": {},
   "source": [
    "## Activities in the Technoshpere"
   ]
  },
  {
   "cell_type": "code",
   "execution_count": 74,
   "id": "11e59e99-e3c8-4aa0-8913-0176747212a5",
   "metadata": {},
   "outputs": [],
   "source": [
    "## Find activities in technosphere based on keyword with agb.findTechAct\n",
    "\n",
    "# Warning 1: put \"*\" meaning it is not finished\n",
    "# Warning 2 : the flow name starts with a Capital letter\n",
    "# Warning 3 : let \"single=False\" so that the list is printed\n",
    "\n",
    "agb.findTechAct(\"photovoltaic mounting*\",single=False)"
   ]
  },
  {
   "cell_type": "code",
   "execution_count": 75,
   "id": "fba7dd0c-8ed8-4eec-80d2-e7f50ef05098",
   "metadata": {},
   "outputs": [
    {
     "data": {
      "text/plain": [
       "Databases dictionary with 3 object(s):\n",
       "\tMyForeground\n",
       "\tbiosphere3\n",
       "\tecoinvent_v3.9.1_cutoff_ecoSpold02"
      ]
     },
     "execution_count": 75,
     "metadata": {},
     "output_type": "execute_result"
    }
   ],
   "source": [
    "bw.databases"
   ]
  },
  {
   "cell_type": "code",
   "execution_count": 76,
   "id": "0abccb49-2024-4eba-a29e-49a1e2da067d",
   "metadata": {},
   "outputs": [
    {
     "ename": "Exception",
     "evalue": "No activity found in 'ecoinvent_v3.9.1_cutoff_ecoSpold02' with name 'market for steel, low-alloyed' and location 'None'",
     "output_type": "error",
     "traceback": [
      "\u001b[1;31m---------------------------------------------------------------------------\u001b[0m",
      "\u001b[1;31mException\u001b[0m                                 Traceback (most recent call last)",
      "Cell \u001b[1;32mIn[76], line 3\u001b[0m\n\u001b[0;32m      1\u001b[0m \u001b[38;5;66;03m# Warning : If there is more than one technosphere background database, use findActivity\u001b[39;00m\n\u001b[1;32m----> 3\u001b[0m steel\u001b[38;5;241m=\u001b[39m \u001b[43magb\u001b[49m\u001b[38;5;241;43m.\u001b[39;49m\u001b[43mfindActivity\u001b[49m\u001b[43m(\u001b[49m\u001b[38;5;124;43m'\u001b[39;49m\u001b[38;5;124;43mmarket for steel, low-alloyed\u001b[39;49m\u001b[38;5;124;43m'\u001b[39;49m\u001b[43m,\u001b[49m\u001b[43mdb_name\u001b[49m\u001b[38;5;241;43m=\u001b[39;49m\u001b[38;5;124;43m'\u001b[39;49m\u001b[38;5;124;43mecoinvent_v3.9.1_cutoff_ecoSpold02\u001b[39;49m\u001b[38;5;124;43m'\u001b[39;49m\u001b[43m)\u001b[49m\n\u001b[0;32m      4\u001b[0m \u001b[38;5;66;03m#aluminium=agb.findActivity('market for copper, cathode', db_name='ecoinvent-3.8-cutoff')\u001b[39;00m\n",
      "File \u001b[1;32mD:\\Users\\Justine\\Anaconda\\envs\\lca_algebraic_CGM\\lib\\site-packages\\lca_algebraic\\activity.py:437\u001b[0m, in \u001b[0;36mfindActivity\u001b[1;34m(name, loc, code, categories, category, db_name, single, case_sensitive, unit, limit)\u001b[0m\n\u001b[0;32m    435\u001b[0m \u001b[38;5;28;01mif\u001b[39;00m single \u001b[38;5;129;01mand\u001b[39;00m \u001b[38;5;28mlen\u001b[39m(acts) \u001b[38;5;241m==\u001b[39m \u001b[38;5;241m0\u001b[39m:\n\u001b[0;32m    436\u001b[0m     any_name \u001b[38;5;241m=\u001b[39m name \u001b[38;5;28;01mif\u001b[39;00m name \u001b[38;5;28;01melse\u001b[39;00m in_name\n\u001b[1;32m--> 437\u001b[0m     \u001b[38;5;28;01mraise\u001b[39;00m \u001b[38;5;167;01mException\u001b[39;00m(\u001b[38;5;124m\"\u001b[39m\u001b[38;5;124mNo activity found in \u001b[39m\u001b[38;5;124m'\u001b[39m\u001b[38;5;132;01m%s\u001b[39;00m\u001b[38;5;124m'\u001b[39m\u001b[38;5;124m with name \u001b[39m\u001b[38;5;124m'\u001b[39m\u001b[38;5;132;01m%s\u001b[39;00m\u001b[38;5;124m'\u001b[39m\u001b[38;5;124m and location \u001b[39m\u001b[38;5;124m'\u001b[39m\u001b[38;5;132;01m%s\u001b[39;00m\u001b[38;5;124m'\u001b[39m\u001b[38;5;124m\"\u001b[39m \u001b[38;5;241m%\u001b[39m (db_name, any_name, loc))\n\u001b[0;32m    438\u001b[0m \u001b[38;5;28;01mif\u001b[39;00m single \u001b[38;5;129;01mand\u001b[39;00m \u001b[38;5;28mlen\u001b[39m(acts) \u001b[38;5;241m>\u001b[39m \u001b[38;5;241m1\u001b[39m:\n\u001b[0;32m    439\u001b[0m     \u001b[38;5;28;01mraise\u001b[39;00m \u001b[38;5;167;01mException\u001b[39;00m(\n\u001b[0;32m    440\u001b[0m         \u001b[38;5;124m\"\u001b[39m\u001b[38;5;124mSeveral activity found in \u001b[39m\u001b[38;5;124m'\u001b[39m\u001b[38;5;132;01m%s\u001b[39;00m\u001b[38;5;124m'\u001b[39m\u001b[38;5;124m with name \u001b[39m\u001b[38;5;124m'\u001b[39m\u001b[38;5;132;01m%s\u001b[39;00m\u001b[38;5;124m'\u001b[39m\u001b[38;5;124m and location \u001b[39m\u001b[38;5;124m'\u001b[39m\u001b[38;5;132;01m%s\u001b[39;00m\u001b[38;5;124m'\u001b[39m\u001b[38;5;124m:\u001b[39m\u001b[38;5;130;01m\\n\u001b[39;00m\u001b[38;5;132;01m%s\u001b[39;00m\u001b[38;5;124m\"\u001b[39m\n\u001b[0;32m    441\u001b[0m         \u001b[38;5;241m%\u001b[39m (db_name, name, loc, \u001b[38;5;124m\"\u001b[39m\u001b[38;5;130;01m\\n\u001b[39;00m\u001b[38;5;124m\"\u001b[39m\u001b[38;5;241m.\u001b[39mjoin(\u001b[38;5;28mstr\u001b[39m(act) \u001b[38;5;28;01mfor\u001b[39;00m act \u001b[38;5;129;01min\u001b[39;00m acts))\n\u001b[0;32m    442\u001b[0m     )\n",
      "\u001b[1;31mException\u001b[0m: No activity found in 'ecoinvent_v3.9.1_cutoff_ecoSpold02' with name 'market for steel, low-alloyed' and location 'None'"
     ]
    }
   ],
   "source": [
    "# Warning : If there is more than one technosphere background database, use findActivity\n",
    "\n",
    "steel= agb.findActivity('market for steel, low-alloyed',db_name='ecoinvent_v3.9.1_cutoff_ecoSpold02')\n",
    "#aluminium=agb.findActivity('market for copper, cathode', db_name='ecoinvent-3.8-cutoff')"
   ]
  },
  {
   "cell_type": "code",
   "execution_count": null,
   "id": "797ec2f5-5e39-4df5-bbd7-857e1bdbaa2a",
   "metadata": {},
   "outputs": [],
   "source": [
    "# Define a technosphere flow (update the right termonology to find the right activity and update the activity_name)\n",
    "ground_mounting_system = agb.findTechAct('photovoltaic mounting system production, for 570kWp open ground module', 'GLO')\n",
    "# if there are several activities in the database with the same name but not the same location, add the location - ex. agb.findTechAct('inverter production, 0.5kW','RER')\n",
    "\n",
    "# Print this activity with the function agb.printAct(name_of_the_activity)\n",
    "agb.printAct(ground_mounting_system)"
   ]
  },
  {
   "cell_type": "code",
   "execution_count": null,
   "id": "2b4b9af4-415e-4a07-abec-7ce914516fe4",
   "metadata": {},
   "outputs": [],
   "source": [
    "inverter = agb.findTechAct('inverter production, 0.5kW','RER')\n",
    "pv_panel =agb.findTechAct(\"market for photovoltaic panel, multi-Si wafer\")\n",
    "agb.printAct(pv_panel)"
   ]
  },
  {
   "cell_type": "markdown",
   "id": "ef127f2e-8955-4c8b-af4d-d7e8a35380d4",
   "metadata": {},
   "source": [
    "## Creating a new activity"
   ]
  },
  {
   "cell_type": "code",
   "execution_count": 9,
   "id": "6a4067b6-1345-42ef-a502-5b41262bd8e6",
   "metadata": {},
   "outputs": [
    {
     "ename": "NameError",
     "evalue": "name 'ground_mounting_system' is not defined",
     "output_type": "error",
     "traceback": [
      "\u001b[1;31m---------------------------------------------------------------------------\u001b[0m",
      "\u001b[1;31mNameError\u001b[0m                                 Traceback (most recent call last)",
      "Cell \u001b[1;32mIn[9], line 6\u001b[0m\n\u001b[0;32m      1\u001b[0m new_activity \u001b[38;5;241m=\u001b[39m agb\u001b[38;5;241m.\u001b[39mnewActivity(\n\u001b[0;32m      2\u001b[0m                     db_name\u001b[38;5;241m=\u001b[39mNAME_USER_DB,         \u001b[38;5;66;03m# Database where the new activity is created\u001b[39;00m\n\u001b[0;32m      3\u001b[0m                     name\u001b[38;5;241m=\u001b[39m\u001b[38;5;124m\"\u001b[39m\u001b[38;5;124mnew activity name \u001b[39m\u001b[38;5;124m\"\u001b[39m,  \u001b[38;5;66;03m# Activity name \u001b[39;00m\n\u001b[0;32m      4\u001b[0m                     unit\u001b[38;5;241m=\u001b[39m\u001b[38;5;124m\"\u001b[39m\u001b[38;5;124munit\u001b[39m\u001b[38;5;124m\"\u001b[39m,                \u001b[38;5;66;03m# Unit\u001b[39;00m\n\u001b[0;32m      5\u001b[0m                     exchanges \u001b[38;5;241m=\u001b[39m {\n\u001b[1;32m----> 6\u001b[0m                         \u001b[43mground_mounting_system\u001b[49m :  \u001b[38;5;241m1\u001b[39m, \u001b[38;5;66;03m#add flows and amount \u001b[39;00m\n\u001b[0;32m      7\u001b[0m                         inverter:  \u001b[38;5;241m2\u001b[39m          \u001b[38;5;66;03m#add flows and amount   \u001b[39;00m\n\u001b[0;32m      8\u001b[0m                         }\n\u001b[0;32m      9\u001b[0m                     )\n\u001b[0;32m     11\u001b[0m agb\u001b[38;5;241m.\u001b[39mprintAct(new_activity)\n",
      "\u001b[1;31mNameError\u001b[0m: name 'ground_mounting_system' is not defined"
     ]
    }
   ],
   "source": [
    "new_activity = agb.newActivity(\n",
    "                    db_name=NAME_USER_DB,         # Database where the new activity is created\n",
    "                    name=\"new activity name \",  # Activity name \n",
    "                    unit=\"unit\",                # Unit\n",
    "                    exchanges = {\n",
    "                        ground_mounting_system :  1, #add flows and amount \n",
    "                        inverter:  2          #add flows and amount   \n",
    "                        }\n",
    "                    )\n",
    "                               \n",
    "agb.printAct(new_activity)"
   ]
  },
  {
   "cell_type": "markdown",
   "id": "9ae56f10-a1bb-432a-8cdc-47e6f05d9fa5",
   "metadata": {},
   "source": [
    "## Modifying an existing activity"
   ]
  },
  {
   "cell_type": "code",
   "execution_count": 10,
   "id": "9f3ba6a7-6aa1-4e7b-98fd-f42efebf92b9",
   "metadata": {},
   "outputs": [
    {
     "ename": "NameError",
     "evalue": "name 'ground_mounting_system' is not defined",
     "output_type": "error",
     "traceback": [
      "\u001b[1;31m---------------------------------------------------------------------------\u001b[0m",
      "\u001b[1;31mNameError\u001b[0m                                 Traceback (most recent call last)",
      "Cell \u001b[1;32mIn[10], line 8\u001b[0m\n\u001b[0;32m      1\u001b[0m \u001b[38;5;66;03m# If it is an activity from the reference database, \u001b[39;00m\n\u001b[0;32m      2\u001b[0m \u001b[38;5;66;03m# First copy the activity that will be modified with the function agb.copyActivity\u001b[39;00m\n\u001b[0;32m      3\u001b[0m \u001b[38;5;66;03m# and to do all the modification in the user database\u001b[39;00m\n\u001b[0;32m      4\u001b[0m \u001b[38;5;66;03m# otherwise you will modify ecoinvent database !\u001b[39;00m\n\u001b[0;32m      6\u001b[0m modified_mounting_system \u001b[38;5;241m=\u001b[39m agb\u001b[38;5;241m.\u001b[39mcopyActivity(\n\u001b[0;32m      7\u001b[0m     db_name\u001b[38;5;241m=\u001b[39mNAME_USER_DB,                            \u001b[38;5;66;03m# Database where the new activity is copied\u001b[39;00m\n\u001b[1;32m----> 8\u001b[0m     activity \u001b[38;5;241m=\u001b[39m \u001b[43mground_mounting_system\u001b[49m,                  \u001b[38;5;66;03m# initial activity\u001b[39;00m\n\u001b[0;32m      9\u001b[0m     code \u001b[38;5;241m=\u001b[39m \u001b[38;5;124m\"\u001b[39m\u001b[38;5;124mmounting system adjusted\u001b[39m\u001b[38;5;124m\"\u001b[39m)   \u001b[38;5;66;03m# new name\u001b[39;00m\n\u001b[0;32m     11\u001b[0m \u001b[38;5;66;03m#Print the copied activity that is for now not yet modified\u001b[39;00m\n\u001b[0;32m     12\u001b[0m agb\u001b[38;5;241m.\u001b[39mprintAct(modified_mounting_system)\n",
      "\u001b[1;31mNameError\u001b[0m: name 'ground_mounting_system' is not defined"
     ]
    }
   ],
   "source": [
    "# If it is an activity from the reference database, \n",
    "# First copy the activity that will be modified with the function agb.copyActivity\n",
    "# and to do all the modification in the user database\n",
    "# otherwise you will modify ecoinvent database !\n",
    "\n",
    "modified_mounting_system = agb.copyActivity(\n",
    "    db_name=NAME_USER_DB,                            # Database where the new activity is copied\n",
    "    activity = ground_mounting_system,                  # initial activity\n",
    "    code = \"mounting system adjusted\")   # new name\n",
    "\n",
    "#Print the copied activity that is for now not yet modified\n",
    "agb.printAct(modified_mounting_system)"
   ]
  },
  {
   "cell_type": "markdown",
   "id": "1b4f74fa-5f05-45e2-869b-109272571aa7",
   "metadata": {},
   "source": [
    "There are 4 main ways of modifying an existing activity :\n",
    "\n",
    "1. change the value of a flow of this activity (with another number or with a mathematic formula)\n",
    "(*example : technology development enables to reduce a quantity of a material.*)\n",
    "\n",
    "1. change a flow by another flow : the new flow is either another flow of the background database or a flow that has been specifically created.\n",
    "(*example : if I want to change the electric mix by antoher one.*)\n",
    "\n",
    "1. add a new flow\n",
    "(*example : there is a new material used in a new technology.*)\n",
    "\n",
    "1. delete an existing flow\n",
    "(*example : if I have a photovoltaic installation on a roof (and not on the soil), I want to delete the concrete flow in the mounting system activity.*)"
   ]
  },
  {
   "cell_type": "code",
   "execution_count": null,
   "id": "d0f701d0-70b5-4374-a694-34388735d55e",
   "metadata": {},
   "outputs": [],
   "source": [
    "# 1. change the value of a flow of this activity (with another number or with a mathematic formula) with the function updateExchanges\n",
    "modified_mounting_system.updateExchanges({                   \n",
    "   'zinc coat, coils' : 0.11 * on_ground,             \n",
    "   'reinforcing steel' : 7.25*0.8})\n",
    "     \n",
    "# 2. change a flow by another flow with the function updateExchanges\n",
    "other_concrete=agb.findTechAct('market for concrete, sole plate and foundation')\n",
    "modified_mounting_system.updateExchanges({ \n",
    "    'concrete, normal' : other_concrete})      #'name of the modified flow' : name of the new flow\n",
    "\n",
    "# 3. Add a new flow with the function addExchanges\n",
    "steel_2= agb.findTechAct('market for steel, low-alloyed, hot rolled')\n",
    "modified_mounting_system.addExchanges({\n",
    "        steel_2: 7.25*0.2 })\n",
    "\n",
    "# 4. Delete an existing flow with the function updateExchanges\n",
    "modified_mounting_system.updateExchanges({                   \n",
    "   'polyethylene, high density, granulate' : None})\n",
    "     \n",
    "# Print the differences between the original activity and the modified activity with the function agb.printAct\n",
    "agb.printAct(ground_mounting_system, modified_mounting_system)\n",
    "\n",
    "# Note : The modifications appear in YELLOW ! \n",
    "# Note : the mathematic formula with parameters are not calculated with default values > the mathematic formula are printed"
   ]
  },
  {
   "cell_type": "markdown",
   "id": "b6afeb0d-5405-4e30-8322-2a2c5bf0c129",
   "metadata": {},
   "source": [
    "## Switching activity / enum parameter"
   ]
  },
  {
   "cell_type": "code",
   "execution_count": 11,
   "id": "ebf0ccfd-39ef-4d92-8e1a-51a9b339e308",
   "metadata": {},
   "outputs": [
    {
     "ename": "Exception",
     "evalue": "No activity found in 'ecoinvent_v3.9.1_cutoff_ecoSpold02' with name 'market for electricity, high voltage' and location 'SN'",
     "output_type": "error",
     "traceback": [
      "\u001b[1;31m---------------------------------------------------------------------------\u001b[0m",
      "\u001b[1;31mException\u001b[0m                                 Traceback (most recent call last)",
      "Cell \u001b[1;32mIn[11], line 1\u001b[0m\n\u001b[1;32m----> 1\u001b[0m senegalese_elec_mix\u001b[38;5;241m=\u001b[39m\u001b[43magb\u001b[49m\u001b[38;5;241;43m.\u001b[39;49m\u001b[43mfindTechAct\u001b[49m\u001b[43m(\u001b[49m\u001b[38;5;124;43m'\u001b[39;49m\u001b[38;5;124;43mmarket for electricity, high voltage\u001b[39;49m\u001b[38;5;124;43m'\u001b[39;49m\u001b[43m,\u001b[49m\u001b[38;5;124;43m'\u001b[39;49m\u001b[38;5;124;43mSN\u001b[39;49m\u001b[38;5;124;43m'\u001b[39;49m\u001b[43m)\u001b[49m\n\u001b[0;32m      2\u001b[0m french_elec_mix\u001b[38;5;241m=\u001b[39magb\u001b[38;5;241m.\u001b[39mfindTechAct(\u001b[38;5;124m'\u001b[39m\u001b[38;5;124mmarket for electricity, high voltage\u001b[39m\u001b[38;5;124m'\u001b[39m,\u001b[38;5;124m'\u001b[39m\u001b[38;5;124mFR\u001b[39m\u001b[38;5;124m'\u001b[39m)\n\u001b[0;32m      3\u001b[0m german_elec_mix\u001b[38;5;241m=\u001b[39magb\u001b[38;5;241m.\u001b[39mfindTechAct(\u001b[38;5;124m'\u001b[39m\u001b[38;5;124mmarket for electricity, high voltage\u001b[39m\u001b[38;5;124m'\u001b[39m,\u001b[38;5;124m'\u001b[39m\u001b[38;5;124mDE\u001b[39m\u001b[38;5;124m'\u001b[39m)\n",
      "File \u001b[1;32mD:\\Users\\Justine\\Anaconda\\envs\\lca_algebraic_CGM\\lib\\site-packages\\lca_algebraic\\activity.py:465\u001b[0m, in \u001b[0;36mfindTechAct\u001b[1;34m(name, loc, single, **kwargs)\u001b[0m\n\u001b[0;32m    460\u001b[0m \u001b[38;5;28;01mif\u001b[39;00m \u001b[38;5;28mlen\u001b[39m(dbs) \u001b[38;5;241m>\u001b[39m \u001b[38;5;241m1\u001b[39m:\n\u001b[0;32m    461\u001b[0m     \u001b[38;5;28;01mraise\u001b[39;00m \u001b[38;5;167;01mException\u001b[39;00m(\n\u001b[0;32m    462\u001b[0m         \u001b[38;5;124m\"\u001b[39m\u001b[38;5;124mThere is more than one technosphere background DB (\u001b[39m\u001b[38;5;132;01m%s\u001b[39;00m\u001b[38;5;124m) please use findActivity(..., db_name=YOUR_DB)\u001b[39m\u001b[38;5;124m\"\u001b[39m \u001b[38;5;241m%\u001b[39m \u001b[38;5;28mstr\u001b[39m(dbs)\n\u001b[0;32m    463\u001b[0m     )\n\u001b[1;32m--> 465\u001b[0m \u001b[38;5;28;01mreturn\u001b[39;00m findActivity(name\u001b[38;5;241m=\u001b[39mname, loc\u001b[38;5;241m=\u001b[39mloc, db_name\u001b[38;5;241m=\u001b[39mdbs[\u001b[38;5;241m0\u001b[39m], single\u001b[38;5;241m=\u001b[39msingle, \u001b[38;5;241m*\u001b[39m\u001b[38;5;241m*\u001b[39mkwargs)\n",
      "File \u001b[1;32mD:\\Users\\Justine\\Anaconda\\envs\\lca_algebraic_CGM\\lib\\site-packages\\lca_algebraic\\activity.py:437\u001b[0m, in \u001b[0;36mfindActivity\u001b[1;34m(name, loc, code, categories, category, db_name, single, case_sensitive, unit, limit)\u001b[0m\n\u001b[0;32m    435\u001b[0m \u001b[38;5;28;01mif\u001b[39;00m single \u001b[38;5;129;01mand\u001b[39;00m \u001b[38;5;28mlen\u001b[39m(acts) \u001b[38;5;241m==\u001b[39m \u001b[38;5;241m0\u001b[39m:\n\u001b[0;32m    436\u001b[0m     any_name \u001b[38;5;241m=\u001b[39m name \u001b[38;5;28;01mif\u001b[39;00m name \u001b[38;5;28;01melse\u001b[39;00m in_name\n\u001b[1;32m--> 437\u001b[0m     \u001b[38;5;28;01mraise\u001b[39;00m \u001b[38;5;167;01mException\u001b[39;00m(\u001b[38;5;124m\"\u001b[39m\u001b[38;5;124mNo activity found in \u001b[39m\u001b[38;5;124m'\u001b[39m\u001b[38;5;132;01m%s\u001b[39;00m\u001b[38;5;124m'\u001b[39m\u001b[38;5;124m with name \u001b[39m\u001b[38;5;124m'\u001b[39m\u001b[38;5;132;01m%s\u001b[39;00m\u001b[38;5;124m'\u001b[39m\u001b[38;5;124m and location \u001b[39m\u001b[38;5;124m'\u001b[39m\u001b[38;5;132;01m%s\u001b[39;00m\u001b[38;5;124m'\u001b[39m\u001b[38;5;124m\"\u001b[39m \u001b[38;5;241m%\u001b[39m (db_name, any_name, loc))\n\u001b[0;32m    438\u001b[0m \u001b[38;5;28;01mif\u001b[39;00m single \u001b[38;5;129;01mand\u001b[39;00m \u001b[38;5;28mlen\u001b[39m(acts) \u001b[38;5;241m>\u001b[39m \u001b[38;5;241m1\u001b[39m:\n\u001b[0;32m    439\u001b[0m     \u001b[38;5;28;01mraise\u001b[39;00m \u001b[38;5;167;01mException\u001b[39;00m(\n\u001b[0;32m    440\u001b[0m         \u001b[38;5;124m\"\u001b[39m\u001b[38;5;124mSeveral activity found in \u001b[39m\u001b[38;5;124m'\u001b[39m\u001b[38;5;132;01m%s\u001b[39;00m\u001b[38;5;124m'\u001b[39m\u001b[38;5;124m with name \u001b[39m\u001b[38;5;124m'\u001b[39m\u001b[38;5;132;01m%s\u001b[39;00m\u001b[38;5;124m'\u001b[39m\u001b[38;5;124m and location \u001b[39m\u001b[38;5;124m'\u001b[39m\u001b[38;5;132;01m%s\u001b[39;00m\u001b[38;5;124m'\u001b[39m\u001b[38;5;124m:\u001b[39m\u001b[38;5;130;01m\\n\u001b[39;00m\u001b[38;5;132;01m%s\u001b[39;00m\u001b[38;5;124m\"\u001b[39m\n\u001b[0;32m    441\u001b[0m         \u001b[38;5;241m%\u001b[39m (db_name, name, loc, \u001b[38;5;124m\"\u001b[39m\u001b[38;5;130;01m\\n\u001b[39;00m\u001b[38;5;124m\"\u001b[39m\u001b[38;5;241m.\u001b[39mjoin(\u001b[38;5;28mstr\u001b[39m(act) \u001b[38;5;28;01mfor\u001b[39;00m act \u001b[38;5;129;01min\u001b[39;00m acts))\n\u001b[0;32m    442\u001b[0m     )\n",
      "\u001b[1;31mException\u001b[0m: No activity found in 'ecoinvent_v3.9.1_cutoff_ecoSpold02' with name 'market for electricity, high voltage' and location 'SN'"
     ]
    }
   ],
   "source": [
    "senegalese_elec_mix=agb.findTechAct('market for electricity, high voltage','SN')\n",
    "french_elec_mix=agb.findTechAct('market for electricity, high voltage','FR')\n",
    "german_elec_mix=agb.findTechAct('market for electricity, high voltage','DE')\n",
    "italian_elec_mix=agb.findTechAct('market for electricity, high voltage','IT')\n",
    "     \n",
    "elec_mix = agb.newSwitchAct(\n",
    "                    NAME_USER_DB, # Database where the new activity is created\n",
    "                    \"electricity mix\",                                      \n",
    "                    elec_mix_country, #enum parameter that is used to switch the activity\n",
    "                            {\n",
    "                                \"senegal\":senegalese_elec_mix,\n",
    "                                \"france\": french_elec_mix,\n",
    "                                 \"germany\": german_elec_mix,\n",
    "                                 \"italy\": italian_elec_mix,\n",
    "                            })"
   ]
  },
  {
   "cell_type": "markdown",
   "id": "9e1caed5-77b4-4776-82c9-f8a332f6e0a2",
   "metadata": {},
   "source": [
    "# Inventory of the system"
   ]
  },
  {
   "cell_type": "markdown",
   "id": "5c6f923c-3c4a-4baa-b8c7-78112e3f1eb9",
   "metadata": {},
   "source": [
    "Gather all the activities of the system in an inventory (called \"system\") that will represent our whole system."
   ]
  },
  {
   "cell_type": "code",
   "execution_count": 12,
   "id": "f871f888-e653-4d1d-93fc-8808714a0d25",
   "metadata": {},
   "outputs": [
    {
     "ename": "NameError",
     "evalue": "name 'STEEL_DENSITY' is not defined",
     "output_type": "error",
     "traceback": [
      "\u001b[1;31m---------------------------------------------------------------------------\u001b[0m",
      "\u001b[1;31mNameError\u001b[0m                                 Traceback (most recent call last)",
      "Cell \u001b[1;32mIn[12], line 9\u001b[0m\n\u001b[0;32m      7\u001b[0m \u001b[38;5;66;03m# If need, intermediate variables can be introduced\u001b[39;00m\n\u001b[0;32m      8\u001b[0m volume_steel_m3\u001b[38;5;241m=\u001b[39m\u001b[38;5;241m0.03\u001b[39m\n\u001b[1;32m----> 9\u001b[0m mass_steel_kg\u001b[38;5;241m=\u001b[39m\u001b[43mSTEEL_DENSITY\u001b[49m\u001b[38;5;241m*\u001b[39mvolume_steel_m3\n\u001b[0;32m     11\u001b[0m \u001b[38;5;66;03m# Add new flows and corresponding quantity with the function addExchanges\u001b[39;00m\n\u001b[0;32m     12\u001b[0m system\u001b[38;5;241m.\u001b[39maddExchanges({\n\u001b[0;32m     13\u001b[0m     modified_mounting_system : surface,\n\u001b[0;32m     14\u001b[0m     pv_panel : surface,\n\u001b[1;32m   (...)\u001b[0m\n\u001b[0;32m     18\u001b[0m     \n\u001b[0;32m     19\u001b[0m })\n",
      "\u001b[1;31mNameError\u001b[0m: name 'STEEL_DENSITY' is not defined"
     ]
    }
   ],
   "source": [
    "# Create a new activity for the full system with the function agb.newActivity\n",
    "system = agb.newActivity(\n",
    "                    db_name=NAME_USER_DB,                 # Database where we load the new activity\n",
    "                    name=\"full system\",  # System name \n",
    "                    unit=\"unit\")                  # Unit\n",
    "\n",
    "# If need, intermediate variables can be introduced\n",
    "volume_steel_m3=0.03\n",
    "mass_steel_kg=STEEL_DENSITY*volume_steel_m3\n",
    "\n",
    "# Add new flows and corresponding quantity with the function addExchanges\n",
    "system.addExchanges({\n",
    "    modified_mounting_system : surface,\n",
    "    pv_panel : surface,\n",
    "    inverter: power_capacity/0.5,\n",
    "    steel_2:mass_steel_kg,\n",
    "    elec_mix:1000,\n",
    "    \n",
    "})\n",
    "\n",
    "# Print the inventory of the modelised system\n",
    "agb.printAct(system)"
   ]
  },
  {
   "cell_type": "markdown",
   "id": "f1fe0595-544c-4cdf-bb67-c4223bf2df57",
   "metadata": {},
   "source": [
    "# Impacts calculation"
   ]
  },
  {
   "cell_type": "markdown",
   "id": "bd511cd8-a91d-45f1-9105-9113f111d73e",
   "metadata": {},
   "source": [
    "Most of the impacts calculations are performed with the functions `agb.compute_impacts´. If you need more information about a function, you can use  `?´ or help as shown below."
   ]
  },
  {
   "cell_type": "code",
   "execution_count": 13,
   "id": "95cfbcac-39d2-464f-9557-d0298c27ecf5",
   "metadata": {},
   "outputs": [
    {
     "name": "stdout",
     "output_type": "stream",
     "text": [
      "Help on function compute_impacts in module lca_algebraic.lca:\n",
      "\n",
      "compute_impacts(models, methods, axis=None, functional_unit=1, return_params=False, description=None, **params)\n",
      "    Main parametric LCIA method :\n",
      "    Computes LCA by expressing the foreground model as symbolic expression of background activities and parameters.\n",
      "    Then, compute 'static' inventory of the referenced background activities.\n",
      "    This enables a very fast recomputation of LCA with different parameters,     useful for stochastic evaluation of parametrized model\n",
      "    \n",
      "    Parameters\n",
      "    ----------\n",
      "    models :\n",
      "        Single model or\n",
      "        List of model or\n",
      "        List of (model, alpha)\n",
      "        or Dict of model:amount\n",
      "        In case of several models, you cannot use list of parameters\n",
      "    \n",
      "    methods :\n",
      "        List of methods / impacts to consider\n",
      "    \n",
      "    axis:\n",
      "        Designates the name of a custom attribute of foreground activities.\n",
      "        You may set this attribute using the method `myActivity.updateMeta(your_custom_attr=\"some_value\")`\n",
      "    \n",
      "        The impacts will be ventilated by this attribute.\n",
      "        This is useful to get impact by phase or sub-modules.\n",
      "    \n",
      "    params:\n",
      "        Any other argument passed to this function is considered as a value of a parameter of the model :\n",
      "        Values can be either single float values, list or ndarray of values.\n",
      "        In the later case, all parameters should have the same number of values.\n",
      "        Paremeters that are not provided will have their default value set.\n",
      "    \n",
      "    functional_unit:\n",
      "        Quantity (static or Sympy formula) by which to divide impacts. Optional, 1 by default.\n",
      "    \n",
      "    return_params:\n",
      "        If true, also returns the value of all parameters in as tabbed DataFrame\n",
      "    \n",
      "    description:\n",
      "        Optional description/metadata to be added in output when using \"return params\" Dataframe\n",
      "    \n",
      "    Returns\n",
      "    -------\n",
      "    A dataframe with the results. If *return_params* is true, it returns `TabbedDataframe`,\n",
      "    including all parameters values, that can be saved as a multi sheet excel file.\n",
      "    \n",
      "    Examples\n",
      "    --------\n",
      "    >>> compute_impacts(\n",
      "    >>>    mainAct1, # The root activity of the foreground model\n",
      "    >>>    [climate_change], # climate_change is the key (tuple) of the impact method\n",
      "    >>>    functional_unit=energy_expression, # energy expression is a Sympy expression computing the energy in kWh\n",
      "    >>>    axis=\"phase\", # Split results by phase\n",
      "    >>>    return_params=True, # Return all parameter values\n",
      "    >>>\n",
      "    >>>    # Parameter values\n",
      "    >>>    p1=2.0,\n",
      "    >>>    p2=3.0)\n",
      "\n"
     ]
    },
    {
     "data": {
      "text/plain": [
       "\u001b[1;31mSignature:\u001b[0m\n",
       "\u001b[0magb\u001b[0m\u001b[1;33m.\u001b[0m\u001b[0mcompute_impacts\u001b[0m\u001b[1;33m(\u001b[0m\u001b[1;33m\n",
       "\u001b[0m    \u001b[0mmodels\u001b[0m\u001b[1;33m,\u001b[0m\u001b[1;33m\n",
       "\u001b[0m    \u001b[0mmethods\u001b[0m\u001b[1;33m,\u001b[0m\u001b[1;33m\n",
       "\u001b[0m    \u001b[0maxis\u001b[0m\u001b[1;33m=\u001b[0m\u001b[1;32mNone\u001b[0m\u001b[1;33m,\u001b[0m\u001b[1;33m\n",
       "\u001b[0m    \u001b[0mfunctional_unit\u001b[0m\u001b[1;33m=\u001b[0m\u001b[1;36m1\u001b[0m\u001b[1;33m,\u001b[0m\u001b[1;33m\n",
       "\u001b[0m    \u001b[0mreturn_params\u001b[0m\u001b[1;33m=\u001b[0m\u001b[1;32mFalse\u001b[0m\u001b[1;33m,\u001b[0m\u001b[1;33m\n",
       "\u001b[0m    \u001b[0mdescription\u001b[0m\u001b[1;33m=\u001b[0m\u001b[1;32mNone\u001b[0m\u001b[1;33m,\u001b[0m\u001b[1;33m\n",
       "\u001b[0m    \u001b[1;33m**\u001b[0m\u001b[0mparams\u001b[0m\u001b[1;33m,\u001b[0m\u001b[1;33m\n",
       "\u001b[0m\u001b[1;33m)\u001b[0m\u001b[1;33m\u001b[0m\u001b[1;33m\u001b[0m\u001b[0m\n",
       "\u001b[1;31mDocstring:\u001b[0m\n",
       "Main parametric LCIA method :\n",
       "Computes LCA by expressing the foreground model as symbolic expression of background activities and parameters.\n",
       "Then, compute 'static' inventory of the referenced background activities.\n",
       "This enables a very fast recomputation of LCA with different parameters,     useful for stochastic evaluation of parametrized model\n",
       "\n",
       "Parameters\n",
       "----------\n",
       "models :\n",
       "    Single model or\n",
       "    List of model or\n",
       "    List of (model, alpha)\n",
       "    or Dict of model:amount\n",
       "    In case of several models, you cannot use list of parameters\n",
       "\n",
       "methods :\n",
       "    List of methods / impacts to consider\n",
       "\n",
       "axis:\n",
       "    Designates the name of a custom attribute of foreground activities.\n",
       "    You may set this attribute using the method `myActivity.updateMeta(your_custom_attr=\"some_value\")`\n",
       "\n",
       "    The impacts will be ventilated by this attribute.\n",
       "    This is useful to get impact by phase or sub-modules.\n",
       "\n",
       "params:\n",
       "    Any other argument passed to this function is considered as a value of a parameter of the model :\n",
       "    Values can be either single float values, list or ndarray of values.\n",
       "    In the later case, all parameters should have the same number of values.\n",
       "    Paremeters that are not provided will have their default value set.\n",
       "\n",
       "functional_unit:\n",
       "    Quantity (static or Sympy formula) by which to divide impacts. Optional, 1 by default.\n",
       "\n",
       "return_params:\n",
       "    If true, also returns the value of all parameters in as tabbed DataFrame\n",
       "\n",
       "description:\n",
       "    Optional description/metadata to be added in output when using \"return params\" Dataframe\n",
       "\n",
       "Returns\n",
       "-------\n",
       "A dataframe with the results. If *return_params* is true, it returns `TabbedDataframe`,\n",
       "including all parameters values, that can be saved as a multi sheet excel file.\n",
       "\n",
       "Examples\n",
       "--------\n",
       ">>> compute_impacts(\n",
       ">>>    mainAct1, # The root activity of the foreground model\n",
       ">>>    [climate_change], # climate_change is the key (tuple) of the impact method\n",
       ">>>    functional_unit=energy_expression, # energy expression is a Sympy expression computing the energy in kWh\n",
       ">>>    axis=\"phase\", # Split results by phase\n",
       ">>>    return_params=True, # Return all parameter values\n",
       ">>>\n",
       ">>>    # Parameter values\n",
       ">>>    p1=2.0,\n",
       ">>>    p2=3.0)\n",
       "\u001b[1;31mFile:\u001b[0m      d:\\users\\justine\\anaconda\\envs\\lca_algebraic_cgm\\lib\\site-packages\\lca_algebraic\\lca.py\n",
       "\u001b[1;31mType:\u001b[0m      function"
      ]
     },
     "metadata": {},
     "output_type": "display_data"
    }
   ],
   "source": [
    "agb.compute_impacts?\n",
    "help(agb.compute_impacts)"
   ]
  },
  {
   "cell_type": "markdown",
   "id": "2cf2cbf3-f05f-45da-b852-8a7704976c2f",
   "metadata": {},
   "source": [
    "### Compute impacts of a sigle activity"
   ]
  },
  {
   "cell_type": "code",
   "execution_count": 14,
   "id": "63bfbb9e-df18-40e9-be17-97cccd5fe812",
   "metadata": {},
   "outputs": [
    {
     "ename": "NameError",
     "evalue": "name 'impacts' is not defined",
     "output_type": "error",
     "traceback": [
      "\u001b[1;31m---------------------------------------------------------------------------\u001b[0m",
      "\u001b[1;31mNameError\u001b[0m                                 Traceback (most recent call last)",
      "Cell \u001b[1;32mIn[14], line 6\u001b[0m\n\u001b[0;32m      1\u001b[0m \u001b[38;5;66;03m# Calculate the impacts of the system modelised with the function agb.multiLCAAlgebric\u001b[39;00m\n\u001b[0;32m      2\u001b[0m \u001b[38;5;66;03m# The calculation is done with the selected LCIA_methods for the selected impact categories\u001b[39;00m\n\u001b[0;32m      4\u001b[0m agb\u001b[38;5;241m.\u001b[39mcompute_impacts(\n\u001b[0;32m      5\u001b[0m     system,               \u001b[38;5;66;03m# activity whose impacts are calculated\u001b[39;00m\n\u001b[1;32m----> 6\u001b[0m     \u001b[43mimpacts\u001b[49m)              \u001b[38;5;66;03m# list of selected impacts\u001b[39;00m\n\u001b[0;32m      8\u001b[0m \u001b[38;5;66;03m# If there is no specific value for parameters, default values are automatically chosen\u001b[39;00m\n",
      "\u001b[1;31mNameError\u001b[0m: name 'impacts' is not defined"
     ]
    }
   ],
   "source": [
    "# Calculate the impacts of the system modelised with the function agb.multiLCAAlgebric\n",
    "# The calculation is done with the selected LCIA_methods for the selected impact categories\n",
    "\n",
    "agb.compute_impacts(\n",
    "    system,               # activity whose impacts are calculated\n",
    "    impacts)              # list of selected impacts\n",
    "\n",
    "# If there is no specific value for parameters, default values are automatically chosen"
   ]
  },
  {
   "cell_type": "code",
   "execution_count": 15,
   "id": "74f1f9cb-d7e0-4c68-8241-1332001a59c5",
   "metadata": {},
   "outputs": [
    {
     "ename": "NameError",
     "evalue": "name 'impacts' is not defined",
     "output_type": "error",
     "traceback": [
      "\u001b[1;31m---------------------------------------------------------------------------\u001b[0m",
      "\u001b[1;31mNameError\u001b[0m                                 Traceback (most recent call last)",
      "Cell \u001b[1;32mIn[15], line 4\u001b[0m\n\u001b[0;32m      1\u001b[0m \u001b[38;5;66;03m#You can also print in a second sheet : the default parameters value and chosen parameters value for the calculation \u001b[39;00m\n\u001b[0;32m      2\u001b[0m agb\u001b[38;5;241m.\u001b[39mcompute_impacts(\n\u001b[0;32m      3\u001b[0m     system,               \u001b[38;5;66;03m# activity whose impacts are calculated\u001b[39;00m\n\u001b[1;32m----> 4\u001b[0m     \u001b[43mimpacts\u001b[49m,              \u001b[38;5;66;03m# list of selected impacts    \u001b[39;00m\n\u001b[0;32m      5\u001b[0m     return_params\u001b[38;5;241m=\u001b[39m\u001b[38;5;28;01mTrue\u001b[39;00m)   \u001b[38;5;66;03m# To create the second sheet with parameters value\u001b[39;00m\n",
      "\u001b[1;31mNameError\u001b[0m: name 'impacts' is not defined"
     ]
    }
   ],
   "source": [
    "#You can also print in a second sheet : the default parameters value and chosen parameters value for the calculation \n",
    "agb.compute_impacts(\n",
    "    system,               # activity whose impacts are calculated\n",
    "    impacts,              # list of selected impacts    \n",
    "    return_params=True)   # To create the second sheet with parameters value"
   ]
  },
  {
   "cell_type": "markdown",
   "id": "a0fd6237-abc8-4156-99cf-2e99f0bd0bfc",
   "metadata": {},
   "source": [
    "### Compute impacts of several activities"
   ]
  },
  {
   "cell_type": "code",
   "execution_count": 16,
   "id": "8d9da361-7386-42e0-9c46-38fd82076bb4",
   "metadata": {},
   "outputs": [
    {
     "ename": "NameError",
     "evalue": "name 'modified_mounting_system' is not defined",
     "output_type": "error",
     "traceback": [
      "\u001b[1;31m---------------------------------------------------------------------------\u001b[0m",
      "\u001b[1;31mNameError\u001b[0m                                 Traceback (most recent call last)",
      "Cell \u001b[1;32mIn[16], line 2\u001b[0m\n\u001b[0;32m      1\u001b[0m agb\u001b[38;5;241m.\u001b[39mcompute_impacts(\n\u001b[1;32m----> 2\u001b[0m     [\u001b[43mmodified_mounting_system\u001b[49m, inverter],         \u001b[38;5;66;03m# list [] of activities\u001b[39;00m\n\u001b[0;32m      3\u001b[0m     impacts)                                      \u001b[38;5;66;03m# list of selected impacts\u001b[39;00m\n\u001b[0;32m      5\u001b[0m \u001b[38;5;66;03m# If there is no specific value for parameters, default values are automatically chosen\u001b[39;00m\n",
      "\u001b[1;31mNameError\u001b[0m: name 'modified_mounting_system' is not defined"
     ]
    }
   ],
   "source": [
    "agb.compute_impacts(\n",
    "    [modified_mounting_system, inverter],         # list [] of activities\n",
    "    impacts)                                      # list of selected impacts\n",
    "\n",
    "# If there is no specific value for parameters, default values are automatically chosen"
   ]
  },
  {
   "cell_type": "markdown",
   "id": "a45cfc0f-8b82-460a-8b04-42513cbe12fb",
   "metadata": {},
   "source": [
    "### Compute the impacts of a specific set of parameters"
   ]
  },
  {
   "cell_type": "code",
   "execution_count": 17,
   "id": "0091eeaa-9ab6-4621-8bad-5756913b3f50",
   "metadata": {},
   "outputs": [
    {
     "ename": "NameError",
     "evalue": "name 'impacts' is not defined",
     "output_type": "error",
     "traceback": [
      "\u001b[1;31m---------------------------------------------------------------------------\u001b[0m",
      "\u001b[1;31mNameError\u001b[0m                                 Traceback (most recent call last)",
      "Cell \u001b[1;32mIn[17], line 4\u001b[0m\n\u001b[0;32m      1\u001b[0m \u001b[38;5;66;03m# idem + specify parameters values \u001b[39;00m\n\u001b[0;32m      2\u001b[0m agb\u001b[38;5;241m.\u001b[39mcompute_impacts(\n\u001b[0;32m      3\u001b[0m     system, \n\u001b[1;32m----> 4\u001b[0m     \u001b[43mimpacts\u001b[49m,             \n\u001b[0;32m      5\u001b[0m     power_capacity \u001b[38;5;241m=\u001b[39m \u001b[38;5;241m50\u001b[39m,       \u001b[38;5;66;03m# parameters value\u001b[39;00m\n\u001b[0;32m      6\u001b[0m     on_roof\u001b[38;5;241m=\u001b[39m\u001b[38;5;241m0\u001b[39m,                 \u001b[38;5;66;03m# boolen parameters value 0 or 1\u001b[39;00m\n\u001b[0;32m      7\u001b[0m     elec_mix_country\u001b[38;5;241m=\u001b[39m\u001b[38;5;124m\"\u001b[39m\u001b[38;5;124mitaly\u001b[39m\u001b[38;5;124m\"\u001b[39m,\n\u001b[0;32m      8\u001b[0m     return_params\u001b[38;5;241m=\u001b[39m\u001b[38;5;28;01mTrue\u001b[39;00m,        \u001b[38;5;66;03m# To create the second sheet with parameters value\u001b[39;00m\n\u001b[0;32m      9\u001b[0m     )           \n",
      "\u001b[1;31mNameError\u001b[0m: name 'impacts' is not defined"
     ]
    }
   ],
   "source": [
    "# idem + specify parameters values \n",
    "agb.compute_impacts(\n",
    "    system, \n",
    "    impacts,             \n",
    "    power_capacity = 50,       # parameters value\n",
    "    on_roof=0,                 # boolen parameters value 0 or 1\n",
    "    elec_mix_country=\"italy\",\n",
    "    return_params=True,        # To create the second sheet with parameters value\n",
    "    )     \n",
    "# These functionalities only work woth lca_algebraic parameters and not with python variables !"
   ]
  },
  {
   "cell_type": "markdown",
   "id": "c53f9d60-fd0e-43c9-859f-46e565b24aec",
   "metadata": {},
   "source": [
    "### Compare several values of one parameter"
   ]
  },
  {
   "cell_type": "code",
   "execution_count": null,
   "id": "1e813f75-e7b9-4dd3-9c2d-42b05a958669",
   "metadata": {},
   "outputs": [],
   "source": [
    "# idem + compare several values for one parameter\n",
    "agb.compute_impacts(\n",
    "    system, \n",
    "    impacts,             \n",
    "    power_capacity = [50,100,200],\n",
    "    #return_params=True,             # optional : To create the second sheet with parameters value\n",
    ")  "
   ]
  },
  {
   "cell_type": "markdown",
   "id": "537469bc-6bf8-4d41-a871-068513be2b7f",
   "metadata": {},
   "source": [
    "### Compare several set of values of several parameter"
   ]
  },
  {
   "cell_type": "code",
   "execution_count": null,
   "id": "24239d48-28b7-4c31-a1e4-95c8d5dda965",
   "metadata": {},
   "outputs": [],
   "source": [
    "# idem + compare several values for 2 or more parameter\n",
    "# Warning : either you put one value for a given parameter, either you put a list of parameters values that shall have the same length for each parameters\n",
    "\n",
    "agb.compute_impacts(\n",
    "    system, \n",
    "    impacts,             \n",
    "    power_capacity = [50,100,200],\n",
    "    on_roof=0,\n",
    "    elec_mix_country=[\"italy\",\"senegal\",\"france\"],\n",
    "    #return_params=True,             # optional : To create the second sheet with parameters value\n",
    "\n",
    ")   "
   ]
  },
  {
   "cell_type": "markdown",
   "id": "6ec2d1ff-e7b3-4230-ba24-a1b29e629606",
   "metadata": {},
   "source": [
    "# Functional unit"
   ]
  },
  {
   "cell_type": "markdown",
   "id": "8e39bb95-077b-4223-bca6-d8504f865d7f",
   "metadata": {},
   "source": [
    "There are two options to modify the **functional unit**.\n",
    "\n",
    "1. Create a new activity for the normalised system and calculate its impacts.\n",
    "2. Use the `functional_unit` option in `agb.compute_impacts`"
   ]
  },
  {
   "cell_type": "code",
   "execution_count": 18,
   "id": "76e12e33-af9b-41c7-b587-52e6020da370",
   "metadata": {},
   "outputs": [],
   "source": [
    "# Option 1\n",
    "ystem_normalised_kWp = agb.newActivity(\n",
    "   NAME_USER_DB,                  # Database where we load the new activity\n",
    "   \"impact per kWp installed\",    # normalised system name\n",
    "   \"unit\",                        # Unit \n",
    "    exchanges={system: 1 / power_capacity}) #divide the inventory of the system by the normalisation factor\n",
    "     \n",
    "agb.compute_impacts(\n",
    "    system_normalised_kWp, \n",
    "    impacts,\n",
    ")    "
   ]
  },
  {
   "cell_type": "code",
   "execution_count": 19,
   "id": "1381f067-6766-46a3-ba77-c8c18e2b429f",
   "metadata": {},
   "outputs": [
    {
     "ename": "NameError",
     "evalue": "name 'impacts' is not defined",
     "output_type": "error",
     "traceback": [
      "\u001b[1;31m---------------------------------------------------------------------------\u001b[0m",
      "\u001b[1;31mNameError\u001b[0m                                 Traceback (most recent call last)",
      "Cell \u001b[1;32mIn[19], line 4\u001b[0m\n\u001b[0;32m      1\u001b[0m \u001b[38;5;66;03m# Option 2\u001b[39;00m\n\u001b[0;32m      2\u001b[0m agb\u001b[38;5;241m.\u001b[39mcompute_impacts(\n\u001b[0;32m      3\u001b[0m     system, \n\u001b[1;32m----> 4\u001b[0m     \u001b[43mimpacts\u001b[49m,\n\u001b[0;32m      5\u001b[0m     functional_unit\u001b[38;5;241m=\u001b[39mpower_capacity \u001b[38;5;66;03m#The impacts of the mentionned activity will be divided by this amount\u001b[39;00m\n\u001b[0;32m      6\u001b[0m )\n",
      "\u001b[1;31mNameError\u001b[0m: name 'impacts' is not defined"
     ]
    }
   ],
   "source": [
    "# Option 2\n",
    "agb.compute_impacts(\n",
    "    system, \n",
    "    impacts,\n",
    "    functional_unit=power_capacity #The impacts of the mentionned activity will be divided by this amount\n",
    ")"
   ]
  },
  {
   "cell_type": "markdown",
   "id": "17202169-dc68-424b-98b0-0f3d4cef0841",
   "metadata": {},
   "source": [
    "# Display"
   ]
  },
  {
   "cell_type": "markdown",
   "id": "bd053602-6ab8-496e-ba89-5f66bb268b3b",
   "metadata": {},
   "source": [
    "## Display impacts per sub-activity"
   ]
  },
  {
   "cell_type": "code",
   "execution_count": 20,
   "id": "0a1f1c30-c9c2-4c07-9058-db2f2d85a3f6",
   "metadata": {},
   "outputs": [
    {
     "ename": "AttributeError",
     "evalue": "module 'lca_algebraic' has no attribute 'exploreImpacts'",
     "output_type": "error",
     "traceback": [
      "\u001b[1;31m---------------------------------------------------------------------------\u001b[0m",
      "\u001b[1;31mAttributeError\u001b[0m                            Traceback (most recent call last)",
      "Cell \u001b[1;32mIn[20], line 3\u001b[0m\n\u001b[0;32m      1\u001b[0m \u001b[38;5;66;03m#Displays all exchanges of one or several activities and their impacts.\u001b[39;00m\n\u001b[0;32m      2\u001b[0m \u001b[38;5;66;03m#Warning, in this case, the first argument is the impact category and not the activity\u001b[39;00m\n\u001b[1;32m----> 3\u001b[0m \u001b[43magb\u001b[49m\u001b[38;5;241;43m.\u001b[39;49m\u001b[43mexploreImpacts\u001b[49m(\n\u001b[0;32m      4\u001b[0m     climate,                  \u001b[38;5;66;03m#impact category \u001b[39;00m\n\u001b[0;32m      5\u001b[0m     system,                   \u001b[38;5;66;03m#name of the activity\u001b[39;00m\n\u001b[0;32m      6\u001b[0m     power_capacity \u001b[38;5;241m=\u001b[39m \u001b[38;5;241m1300\u001b[39m     \u001b[38;5;66;03m#optional : change the parameter value\u001b[39;00m\n\u001b[0;32m      7\u001b[0m     )\n",
      "\u001b[1;31mAttributeError\u001b[0m: module 'lca_algebraic' has no attribute 'exploreImpacts'"
     ]
    }
   ],
   "source": [
    "#Displays all exchanges of one or several activities and their impacts.\n",
    "#Warning, in this case, the first argument is the impact category and not the activity\n",
    "agb.exploreImpacts(\n",
    "    climate,                  #impact category \n",
    "    system,                   #name of the activity\n",
    "    power_capacity = 1300     #optional : change the parameter value\n",
    "    )"
   ]
  },
  {
   "cell_type": "markdown",
   "id": "8c308475-a0a7-4a9b-8057-cfc644266559",
   "metadata": {},
   "source": [
    "## Axis functionnality"
   ]
  },
  {
   "cell_type": "markdown",
   "id": "a22dd965-2d54-4c06-b50e-46de3c820fce",
   "metadata": {},
   "source": [
    "Divide your system in axis/subcategories to calculate the contribution of each subcategories to the impacts.\n",
    "\n",
    "- You can add as much axis as you want and name them as you want.\n",
    "- If the line _ other _ is not equal to zero, it means that you forgot to flag part of your modeled system.\n",
    "- Warning! If you flag an inventory for a given axis (subsytem=\"pv panel\"), you can not flag an inventory that uses this inventory with another for this given axis. Otherwise you will get an issue while computing the impacts."
   ]
  },
  {
   "cell_type": "code",
   "execution_count": 21,
   "id": "f0819719-878c-4d82-8c6b-f3fbc1998dce",
   "metadata": {},
   "outputs": [],
   "source": [
    "#Axis : subsystem with two subcategories\n",
    "BOP=\"balance of plant\"\n",
    "PV=\"PV panels\"\n",
    "#Axis: stage (life cycle stage) with two subcategories\n",
    "MANUFACTURING = \"phase 1 = manufacturing\"\n",
    "OPERATION = \"phase 2 = operation and maintenance\""
   ]
  },
  {
   "cell_type": "code",
   "execution_count": 22,
   "id": "d9a6f433-0928-49d2-b3bd-1a7cd9886cb4",
   "metadata": {},
   "outputs": [
    {
     "ename": "NameError",
     "evalue": "name 'modified_mounting_system' is not defined",
     "output_type": "error",
     "traceback": [
      "\u001b[1;31m---------------------------------------------------------------------------\u001b[0m",
      "\u001b[1;31mNameError\u001b[0m                                 Traceback (most recent call last)",
      "Cell \u001b[1;32mIn[22], line 11\u001b[0m\n\u001b[0;32m      1\u001b[0m \u001b[38;5;66;03m#When creating the activity, you flag the chosen axis (The axis can be named as you want)\u001b[39;00m\n\u001b[0;32m      2\u001b[0m \n\u001b[0;32m      3\u001b[0m \u001b[38;5;66;03m#Activity to model the manufacturing of the balance of plant\u001b[39;00m\n\u001b[0;32m      4\u001b[0m balance_of_plant_manufacturing \u001b[38;5;241m=\u001b[39m agb\u001b[38;5;241m.\u001b[39mnewActivity(\n\u001b[0;32m      5\u001b[0m                     db_name\u001b[38;5;241m=\u001b[39mNAME_USER_DB,   \n\u001b[0;32m      6\u001b[0m                     name\u001b[38;5;241m=\u001b[39m\u001b[38;5;124m\"\u001b[39m\u001b[38;5;124mmanufacturing of the balance of plant\u001b[39m\u001b[38;5;124m\"\u001b[39m,   \n\u001b[0;32m      7\u001b[0m                     unit\u001b[38;5;241m=\u001b[39m\u001b[38;5;124m\"\u001b[39m\u001b[38;5;124munit\u001b[39m\u001b[38;5;124m\"\u001b[39m,            \n\u001b[0;32m      8\u001b[0m                     subsystem\u001b[38;5;241m=\u001b[39mBOP,     \u001b[38;5;66;03m#axis subsystem\u001b[39;00m\n\u001b[0;32m      9\u001b[0m                     stage\u001b[38;5;241m=\u001b[39mMANUFACTURING,\u001b[38;5;66;03m#axis  stage\u001b[39;00m\n\u001b[0;32m     10\u001b[0m                     exchanges\u001b[38;5;241m=\u001b[39m{\n\u001b[1;32m---> 11\u001b[0m                         \u001b[43mmodified_mounting_system\u001b[49m :  surface,  \n\u001b[0;32m     12\u001b[0m                         inverter: power_capacity\u001b[38;5;241m/\u001b[39m\u001b[38;5;241m0.5\u001b[39m           \n\u001b[0;32m     13\u001b[0m                         })\n\u001b[0;32m     15\u001b[0m \u001b[38;5;66;03m#Activity to model the manufacturing of pv panel\u001b[39;00m\n\u001b[0;32m     16\u001b[0m pv_panel_manufacturing\u001b[38;5;241m=\u001b[39magb\u001b[38;5;241m.\u001b[39mnewActivity(\n\u001b[0;32m     17\u001b[0m                     db_name\u001b[38;5;241m=\u001b[39mNAME_USER_DB,   \n\u001b[0;32m     18\u001b[0m                     name\u001b[38;5;241m=\u001b[39m\u001b[38;5;124m\"\u001b[39m\u001b[38;5;124mmanufacturing of the pv panel\u001b[39m\u001b[38;5;124m\"\u001b[39m,   \n\u001b[1;32m   (...)\u001b[0m\n\u001b[0;32m     23\u001b[0m                         pv_panel:  surface, \n\u001b[0;32m     24\u001b[0m                         })\n",
      "\u001b[1;31mNameError\u001b[0m: name 'modified_mounting_system' is not defined"
     ]
    }
   ],
   "source": [
    "# Manufacturing stage\n",
    "\n",
    "#When creating the activity, you flag the chosen axis (The axis can be named as you want)\n",
    "\n",
    "#Activity to model the manufacturing of the balance of plant\n",
    "balance_of_plant_manufacturing = agb.newActivity(\n",
    "                    db_name=NAME_USER_DB,   \n",
    "                    name=\"manufacturing of the balance of plant\",   \n",
    "                    unit=\"unit\",            \n",
    "                    subsystem=BOP,     #axis subsystem\n",
    "                    stage=MANUFACTURING,#axis  stage\n",
    "                    exchanges={\n",
    "                        modified_mounting_system :  surface,  \n",
    "                        inverter: power_capacity/0.5           \n",
    "                        })\n",
    "\n",
    "#Activity to model the manufacturing of pv panel\n",
    "pv_panel_manufacturing=agb.newActivity(\n",
    "                    db_name=NAME_USER_DB,   \n",
    "                    name=\"manufacturing of the pv panel\",   \n",
    "                    unit=\"unit\",           \n",
    "                    subsystem=PV,        #axis subsystem\n",
    "                    stage=MANUFACTURING,  #axis  stage\n",
    "                    exchanges={\n",
    "                        pv_panel:  surface, \n",
    "                        })\n",
    "\n",
    "#Activity to model the manufacturing of the whole system\n",
    "system_manufacturing=agb.newActivity(\n",
    "                    db_name=NAME_USER_DB,   \n",
    "                    name=\"manufacturing of the system\",   \n",
    "                    unit=\"unit\",           \n",
    "                    #no need to put the axis name as it is associated with the chosen acitivites as it is done for the subactivities\n",
    "                    exchanges={\n",
    "                        balance_of_plant_manufacturing: 1, \n",
    "                        pv_panel_manufacturing: 1, \n",
    "                        })"
   ]
  },
  {
   "cell_type": "code",
   "execution_count": 23,
   "id": "ea668633-e57a-46b2-a35a-419018334ea6",
   "metadata": {},
   "outputs": [
    {
     "ename": "NameError",
     "evalue": "name 'elec_mix' is not defined",
     "output_type": "error",
     "traceback": [
      "\u001b[1;31m---------------------------------------------------------------------------\u001b[0m",
      "\u001b[1;31mNameError\u001b[0m                                 Traceback (most recent call last)",
      "Cell \u001b[1;32mIn[23], line 13\u001b[0m\n\u001b[0;32m      1\u001b[0m \u001b[38;5;66;03m# Operation and maintenance stage\u001b[39;00m\n\u001b[0;32m      2\u001b[0m \n\u001b[0;32m      3\u001b[0m \u001b[38;5;66;03m#When creating the activity, you flag the chosen axis (The axis can be named as you want)\u001b[39;00m\n\u001b[0;32m      4\u001b[0m \n\u001b[0;32m      5\u001b[0m \u001b[38;5;66;03m#Activity to model the operation and maintenance of the balance of plant\u001b[39;00m\n\u001b[0;32m      6\u001b[0m balance_of_plant_operation \u001b[38;5;241m=\u001b[39m agb\u001b[38;5;241m.\u001b[39mnewActivity(\n\u001b[0;32m      7\u001b[0m                     db_name\u001b[38;5;241m=\u001b[39mNAME_USER_DB,   \n\u001b[0;32m      8\u001b[0m                     name\u001b[38;5;241m=\u001b[39m\u001b[38;5;124m\"\u001b[39m\u001b[38;5;124moperation and maintenance of the balance of plant\u001b[39m\u001b[38;5;124m\"\u001b[39m,   \n\u001b[0;32m      9\u001b[0m                     unit\u001b[38;5;241m=\u001b[39m\u001b[38;5;124m\"\u001b[39m\u001b[38;5;124munit\u001b[39m\u001b[38;5;124m\"\u001b[39m,          \n\u001b[0;32m     10\u001b[0m                     subsystem\u001b[38;5;241m=\u001b[39mBOP,    \u001b[38;5;66;03m#axis subsystem\u001b[39;00m\n\u001b[0;32m     11\u001b[0m                     stage\u001b[38;5;241m=\u001b[39mOPERATION,   \u001b[38;5;66;03m#axis  stage\u001b[39;00m\n\u001b[0;32m     12\u001b[0m                     exchanges\u001b[38;5;241m=\u001b[39m{\n\u001b[1;32m---> 13\u001b[0m                         \u001b[43melec_mix\u001b[49m :  \u001b[38;5;241m1000\u001b[39m\n\u001b[0;32m     14\u001b[0m                         })\n\u001b[0;32m     16\u001b[0m \u001b[38;5;66;03m#Activity to model the operation and maintenance of pv panel\u001b[39;00m\n\u001b[0;32m     17\u001b[0m pv_panel_operation \u001b[38;5;241m=\u001b[39m agb\u001b[38;5;241m.\u001b[39mnewActivity(\n\u001b[0;32m     18\u001b[0m                     db_name\u001b[38;5;241m=\u001b[39mNAME_USER_DB,   \n\u001b[0;32m     19\u001b[0m                     name\u001b[38;5;241m=\u001b[39m\u001b[38;5;124m\"\u001b[39m\u001b[38;5;124moperation and maintenance of the pv panels\u001b[39m\u001b[38;5;124m\"\u001b[39m,   \n\u001b[1;32m   (...)\u001b[0m\n\u001b[0;32m     22\u001b[0m                         elec_mix :  \u001b[38;5;241m5000\u001b[39m\n\u001b[0;32m     23\u001b[0m                         })\n",
      "\u001b[1;31mNameError\u001b[0m: name 'elec_mix' is not defined"
     ]
    }
   ],
   "source": [
    "# Operation and maintenance stage\n",
    "\n",
    "#When creating the activity, you flag the chosen axis (The axis can be named as you want)\n",
    "\n",
    "#Activity to model the operation and maintenance of the balance of plant\n",
    "balance_of_plant_operation = agb.newActivity(\n",
    "                    db_name=NAME_USER_DB,   \n",
    "                    name=\"operation and maintenance of the balance of plant\",   \n",
    "                    unit=\"unit\",          \n",
    "                    subsystem=BOP,    #axis subsystem\n",
    "                    stage=OPERATION,   #axis  stage\n",
    "                    exchanges={\n",
    "                        elec_mix :  1000\n",
    "                        })\n",
    "\n",
    "#Activity to model the operation and maintenance of pv panel\n",
    "pv_panel_operation = agb.newActivity(\n",
    "                    db_name=NAME_USER_DB,   \n",
    "                    name=\"operation and maintenance of the pv panels\",   \n",
    "                    unit=\"unit\",          \n",
    "                    exchanges={\n",
    "                        elec_mix :  5000\n",
    "                        })\n",
    "\n",
    "#If the activity is already created, you can add the flags as shown below. Do not forget to save !!\n",
    "pv_panel_operation[\"subsystem\"]=PV\n",
    "pv_panel_operation.save()\n",
    "\n",
    "pv_panel_operation[\"stage\"]=OPERATION\n",
    "pv_panel_operation.save()\n",
    "\n",
    "#Activity to model the operation and maintenance of the whole system\n",
    "system_operation=agb.newActivity(\n",
    "                    db_name=NAME_USER_DB,   \n",
    "                    name=\"operation and maintenance of the system\",   \n",
    "                    unit=\"unit\",           \n",
    "                    #no need to put the axis name as it is associated with the chosen acitivites\n",
    "                    exchanges={\n",
    "                        balance_of_plant_operation: 1, \n",
    "                        pv_panel_operation: 1, \n",
    "                        })"
   ]
  },
  {
   "cell_type": "code",
   "execution_count": 24,
   "id": "fd313e40-90ed-47c5-a0bc-61fac5c03730",
   "metadata": {},
   "outputs": [],
   "source": [
    "# Impacts of full system per axis\n",
    "\n",
    "#Activity to model the whole system\n",
    "system_full=agb.newActivity(\n",
    "                    db_name=NAME_USER_DB,   \n",
    "                    name=\"full system for axis function\",   \n",
    "                    unit=\"unit\",           \n",
    "                    exchanges={\n",
    "                        system_manufacturing: 1, \n",
    "                        system_operation: 1, \n",
    "                        })\n",
    "     \n",
    "agb.compute_impacts(\n",
    "    system_full,\n",
    "    impacts,\n",
    "    #functional_unit=power_capacity,\n",
    "    #axis=\"subsystem\",)\n",
    "    axis=\"stage\") "
   ]
  },
  {
   "cell_type": "markdown",
   "id": "bcc9bb18-b1ce-45be-a024-be3bbb921ebf",
   "metadata": {},
   "source": [
    "# Export results in Excel"
   ]
  },
  {
   "cell_type": "code",
   "execution_count": 26,
   "id": "dcb93eae-08aa-4cac-aa45-eb27d6e5523b",
   "metadata": {},
   "outputs": [
    {
     "ename": "NameError",
     "evalue": "name 'modified_mounting_system' is not defined",
     "output_type": "error",
     "traceback": [
      "\u001b[1;31m---------------------------------------------------------------------------\u001b[0m",
      "\u001b[1;31mNameError\u001b[0m                                 Traceback (most recent call last)",
      "Cell \u001b[1;32mIn[26], line 2\u001b[0m\n\u001b[0;32m      1\u001b[0m df \u001b[38;5;241m=\u001b[39m agb\u001b[38;5;241m.\u001b[39mcompute_impacts(\n\u001b[1;32m----> 2\u001b[0m     [system, \u001b[43mmodified_mounting_system\u001b[49m],\n\u001b[0;32m      3\u001b[0m     impacts,\n\u001b[0;32m      4\u001b[0m     functional_unit\u001b[38;5;241m=\u001b[39mpower_capacity)\n\u001b[0;32m      6\u001b[0m df\u001b[38;5;241m.\u001b[39mto_excel(\u001b[38;5;124m\"\u001b[39m\u001b[38;5;124mdata/impact_test.xlsx\u001b[39m\u001b[38;5;124m\"\u001b[39m)\n\u001b[0;32m      7\u001b[0m df \u001b[38;5;66;03m#To print it in Jupyter\u001b[39;00m\n",
      "\u001b[1;31mNameError\u001b[0m: name 'modified_mounting_system' is not defined"
     ]
    }
   ],
   "source": [
    "df = agb.compute_impacts(\n",
    "    [system, modified_mounting_system],\n",
    "    impacts,\n",
    "    functional_unit=power_capacity)\n",
    "\n",
    "df.to_excel(\"data/impact_test.xlsx\")\n",
    "df #To print it in Jupyter"
   ]
  },
  {
   "cell_type": "code",
   "execution_count": null,
   "id": "15501636-98d8-4981-8c54-f7f4c79163ec",
   "metadata": {},
   "outputs": [],
   "source": []
  }
 ],
 "metadata": {
  "kernelspec": {
   "display_name": "Python 3 (ipykernel)",
   "language": "python",
   "name": "python3"
  },
  "language_info": {
   "codemirror_mode": {
    "name": "ipython",
    "version": 3
   },
   "file_extension": ".py",
   "mimetype": "text/x-python",
   "name": "python",
   "nbconvert_exporter": "python",
   "pygments_lexer": "ipython3",
   "version": "3.10.16"
  }
 },
 "nbformat": 4,
 "nbformat_minor": 5
}
