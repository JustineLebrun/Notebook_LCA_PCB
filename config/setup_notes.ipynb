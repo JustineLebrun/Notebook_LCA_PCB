{
 "cells": [
  {
   "cell_type": "markdown",
   "id": "3836b300-f83b-4def-87f1-721818d2b735",
   "metadata": {},
   "source": [
    "# LCA Brightway Set-up Notes\n"
   ]
  },
  {
   "cell_type": "markdown",
   "id": "8f5dab5e-26d7-4929-a055-c2de2c0f2f75",
   "metadata": {},
   "source": [
    "First create a python environment, with Python [>=3.10] and activate it"
   ]
  },
  {
   "cell_type": "raw",
   "id": "2fd01870-3c4f-4b60-a9f4-2b4ab1524503",
   "metadata": {},
   "source": [
    "conda create -n env python=3.10\n",
    "conda activate env"
   ]
  },
  {
   "cell_type": "markdown",
   "id": "457384d0-52b6-4f7f-b493-51a6dc99e76c",
   "metadata": {},
   "source": [
    "Install the following packages:"
   ]
  },
  {
   "cell_type": "raw",
   "id": "813f7992-2fa1-4d3c-a67a-340d6c9adb08",
   "metadata": {},
   "source": [
    "pip install Brightway2\n",
    "pip install Jupyter\n",
    "pip install Matplotlib\n",
    "pip install Numpy\n",
    "pip install Pandas\n",
    "pip install lca_algebraic\n",
    "pip install activity-browser"
   ]
  },
  {
   "cell_type": "markdown",
   "id": "6cb64b72-185b-4512-91f0-b3c48f389180",
   "metadata": {},
   "source": [
    "To launch a notebook:"
   ]
  },
  {
   "cell_type": "raw",
   "id": "6754ae09-f499-4ec2-a0f2-8f60efde85e3",
   "metadata": {},
   "source": [
    "jupyter notebook --notebook-dir=D:\\"
   ]
  },
  {
   "cell_type": "markdown",
   "id": "8065375a-3a41-487c-afa6-6dcd7aeb7362",
   "metadata": {},
   "source": [
    "Tutorial for a Brightway setup project: https://github.com/oie-mines-paristech/lca_algebraic/blob/main/notebooks/handbook.ipynb \n",
    "\n"
   ]
  },
  {
   "cell_type": "code",
   "execution_count": null,
   "id": "5ca81798-c671-4b9b-89dd-0b913e182c23",
   "metadata": {},
   "outputs": [],
   "source": []
  }
 ],
 "metadata": {
  "kernelspec": {
   "display_name": "Python 3 (ipykernel)",
   "language": "python",
   "name": "python3"
  },
  "language_info": {
   "codemirror_mode": {
    "name": "ipython",
    "version": 3
   },
   "file_extension": ".py",
   "mimetype": "text/x-python",
   "name": "python",
   "nbconvert_exporter": "python",
   "pygments_lexer": "ipython3",
   "version": "3.10.16"
  }
 },
 "nbformat": 4,
 "nbformat_minor": 5
}
